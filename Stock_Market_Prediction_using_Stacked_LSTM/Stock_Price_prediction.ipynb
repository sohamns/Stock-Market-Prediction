{
  "nbformat": 4,
  "nbformat_minor": 0,
  "metadata": {
    "kernelspec": {
      "display_name": "Python 3",
      "language": "python",
      "name": "python3"
    },
    "language_info": {
      "codemirror_mode": {
        "name": "ipython",
        "version": 3
      },
      "file_extension": ".py",
      "mimetype": "text/x-python",
      "name": "python",
      "nbconvert_exporter": "python",
      "pygments_lexer": "ipython3",
      "version": "3.6.9"
    },
    "colab": {
      "name": "Stock Price prediction",
      "provenance": [],
      "collapsed_sections": []
    }
  },
  "cells": [
    {
      "cell_type": "markdown",
      "metadata": {
        "id": "X4DRP73_YbWI"
      },
      "source": [
        "### Stock Market Prediction And Forecasting Using Stacked LSTM"
      ]
    },
    {
      "cell_type": "code",
      "metadata": {
        "id": "NYIrWDS7YbWS"
      },
      "source": [
        "### Keras and Tensorflow >2.0"
      ],
      "execution_count": null,
      "outputs": []
    },
    {
      "cell_type": "code",
      "metadata": {
        "id": "pkGGsy_yYbWY"
      },
      "source": [
        "### Data Collection\n",
        "import pandas_datareader as pdr\n",
        "key=\"dbe4ccc33f74752234f8d41d7a4830dace28480a\""
      ],
      "execution_count": null,
      "outputs": []
    },
    {
      "cell_type": "code",
      "metadata": {
        "id": "tGGlpgviYbWa"
      },
      "source": [
        "df = pdr.get_data_tiingo('AAPL', api_key=key)"
      ],
      "execution_count": null,
      "outputs": []
    },
    {
      "cell_type": "code",
      "metadata": {
        "id": "zI4MNjNMYbWc"
      },
      "source": [
        "df.to_csv('AAPL.csv')"
      ],
      "execution_count": null,
      "outputs": []
    },
    {
      "cell_type": "code",
      "metadata": {
        "id": "dVNd42SrYbWe"
      },
      "source": [
        "import pandas as pd"
      ],
      "execution_count": null,
      "outputs": []
    },
    {
      "cell_type": "code",
      "metadata": {
        "id": "GWRpc0_lYbWf"
      },
      "source": [
        "df=pd.read_csv('AAPL.csv')"
      ],
      "execution_count": null,
      "outputs": []
    },
    {
      "cell_type": "code",
      "metadata": {
        "colab": {
          "base_uri": "https://localhost:8080/",
          "height": 204
        },
        "id": "dF0bZ2aQYbWg",
        "outputId": "0cfcf01b-76e5-41b1-fa6e-6be858c5b6f2"
      },
      "source": [
        "df.head()"
      ],
      "execution_count": null,
      "outputs": [
        {
          "output_type": "execute_result",
          "data": {
            "text/html": [
              "<div>\n",
              "<style scoped>\n",
              "    .dataframe tbody tr th:only-of-type {\n",
              "        vertical-align: middle;\n",
              "    }\n",
              "\n",
              "    .dataframe tbody tr th {\n",
              "        vertical-align: top;\n",
              "    }\n",
              "\n",
              "    .dataframe thead th {\n",
              "        text-align: right;\n",
              "    }\n",
              "</style>\n",
              "<table border=\"1\" class=\"dataframe\">\n",
              "  <thead>\n",
              "    <tr style=\"text-align: right;\">\n",
              "      <th></th>\n",
              "      <th>symbol</th>\n",
              "      <th>date</th>\n",
              "      <th>close</th>\n",
              "      <th>high</th>\n",
              "      <th>low</th>\n",
              "      <th>open</th>\n",
              "      <th>volume</th>\n",
              "      <th>adjClose</th>\n",
              "      <th>adjHigh</th>\n",
              "      <th>adjLow</th>\n",
              "      <th>adjOpen</th>\n",
              "      <th>adjVolume</th>\n",
              "      <th>divCash</th>\n",
              "      <th>splitFactor</th>\n",
              "    </tr>\n",
              "  </thead>\n",
              "  <tbody>\n",
              "    <tr>\n",
              "      <th>0</th>\n",
              "      <td>AAPL</td>\n",
              "      <td>2016-05-20 00:00:00+00:00</td>\n",
              "      <td>95.22</td>\n",
              "      <td>95.43</td>\n",
              "      <td>94.52</td>\n",
              "      <td>94.64</td>\n",
              "      <td>32025968</td>\n",
              "      <td>22.235151</td>\n",
              "      <td>22.284188</td>\n",
              "      <td>22.071691</td>\n",
              "      <td>22.099713</td>\n",
              "      <td>128103872</td>\n",
              "      <td>0.0</td>\n",
              "      <td>1.0</td>\n",
              "    </tr>\n",
              "    <tr>\n",
              "      <th>1</th>\n",
              "      <td>AAPL</td>\n",
              "      <td>2016-05-23 00:00:00+00:00</td>\n",
              "      <td>96.43</td>\n",
              "      <td>97.19</td>\n",
              "      <td>95.67</td>\n",
              "      <td>95.87</td>\n",
              "      <td>38018643</td>\n",
              "      <td>22.517702</td>\n",
              "      <td>22.695172</td>\n",
              "      <td>22.340232</td>\n",
              "      <td>22.386934</td>\n",
              "      <td>152074572</td>\n",
              "      <td>0.0</td>\n",
              "      <td>1.0</td>\n",
              "    </tr>\n",
              "    <tr>\n",
              "      <th>2</th>\n",
              "      <td>AAPL</td>\n",
              "      <td>2016-05-24 00:00:00+00:00</td>\n",
              "      <td>97.90</td>\n",
              "      <td>98.09</td>\n",
              "      <td>96.84</td>\n",
              "      <td>97.22</td>\n",
              "      <td>35140174</td>\n",
              "      <td>22.860967</td>\n",
              "      <td>22.905334</td>\n",
              "      <td>22.613442</td>\n",
              "      <td>22.702177</td>\n",
              "      <td>140560696</td>\n",
              "      <td>0.0</td>\n",
              "      <td>1.0</td>\n",
              "    </tr>\n",
              "    <tr>\n",
              "      <th>3</th>\n",
              "      <td>AAPL</td>\n",
              "      <td>2016-05-25 00:00:00+00:00</td>\n",
              "      <td>99.62</td>\n",
              "      <td>99.74</td>\n",
              "      <td>98.11</td>\n",
              "      <td>98.67</td>\n",
              "      <td>38642108</td>\n",
              "      <td>23.262610</td>\n",
              "      <td>23.290631</td>\n",
              "      <td>22.910004</td>\n",
              "      <td>23.040772</td>\n",
              "      <td>154568432</td>\n",
              "      <td>0.0</td>\n",
              "      <td>1.0</td>\n",
              "    </tr>\n",
              "    <tr>\n",
              "      <th>4</th>\n",
              "      <td>AAPL</td>\n",
              "      <td>2016-05-26 00:00:00+00:00</td>\n",
              "      <td>100.41</td>\n",
              "      <td>100.73</td>\n",
              "      <td>98.64</td>\n",
              "      <td>99.68</td>\n",
              "      <td>56331159</td>\n",
              "      <td>23.447085</td>\n",
              "      <td>23.521810</td>\n",
              "      <td>23.033766</td>\n",
              "      <td>23.276620</td>\n",
              "      <td>225324636</td>\n",
              "      <td>0.0</td>\n",
              "      <td>1.0</td>\n",
              "    </tr>\n",
              "  </tbody>\n",
              "</table>\n",
              "</div>"
            ],
            "text/plain": [
              "  symbol                       date   close  ...  adjVolume  divCash  splitFactor\n",
              "0   AAPL  2016-05-20 00:00:00+00:00   95.22  ...  128103872      0.0          1.0\n",
              "1   AAPL  2016-05-23 00:00:00+00:00   96.43  ...  152074572      0.0          1.0\n",
              "2   AAPL  2016-05-24 00:00:00+00:00   97.90  ...  140560696      0.0          1.0\n",
              "3   AAPL  2016-05-25 00:00:00+00:00   99.62  ...  154568432      0.0          1.0\n",
              "4   AAPL  2016-05-26 00:00:00+00:00  100.41  ...  225324636      0.0          1.0\n",
              "\n",
              "[5 rows x 14 columns]"
            ]
          },
          "metadata": {
            "tags": []
          },
          "execution_count": 7
        }
      ]
    },
    {
      "cell_type": "code",
      "metadata": {
        "colab": {
          "base_uri": "https://localhost:8080/",
          "height": 204
        },
        "id": "9OXCVSBwYbWi",
        "outputId": "363772cb-a889-4259-e744-3544382ee3e4"
      },
      "source": [
        "df.tail()"
      ],
      "execution_count": null,
      "outputs": [
        {
          "output_type": "execute_result",
          "data": {
            "text/html": [
              "<div>\n",
              "<style scoped>\n",
              "    .dataframe tbody tr th:only-of-type {\n",
              "        vertical-align: middle;\n",
              "    }\n",
              "\n",
              "    .dataframe tbody tr th {\n",
              "        vertical-align: top;\n",
              "    }\n",
              "\n",
              "    .dataframe thead th {\n",
              "        text-align: right;\n",
              "    }\n",
              "</style>\n",
              "<table border=\"1\" class=\"dataframe\">\n",
              "  <thead>\n",
              "    <tr style=\"text-align: right;\">\n",
              "      <th></th>\n",
              "      <th>symbol</th>\n",
              "      <th>date</th>\n",
              "      <th>close</th>\n",
              "      <th>high</th>\n",
              "      <th>low</th>\n",
              "      <th>open</th>\n",
              "      <th>volume</th>\n",
              "      <th>adjClose</th>\n",
              "      <th>adjHigh</th>\n",
              "      <th>adjLow</th>\n",
              "      <th>adjOpen</th>\n",
              "      <th>adjVolume</th>\n",
              "      <th>divCash</th>\n",
              "      <th>splitFactor</th>\n",
              "    </tr>\n",
              "  </thead>\n",
              "  <tbody>\n",
              "    <tr>\n",
              "      <th>1252</th>\n",
              "      <td>AAPL</td>\n",
              "      <td>2021-05-12 00:00:00+00:00</td>\n",
              "      <td>122.77</td>\n",
              "      <td>124.64</td>\n",
              "      <td>122.25</td>\n",
              "      <td>123.40</td>\n",
              "      <td>112172282</td>\n",
              "      <td>122.77</td>\n",
              "      <td>124.64</td>\n",
              "      <td>122.25</td>\n",
              "      <td>123.40</td>\n",
              "      <td>112172282</td>\n",
              "      <td>0.0</td>\n",
              "      <td>1.0</td>\n",
              "    </tr>\n",
              "    <tr>\n",
              "      <th>1253</th>\n",
              "      <td>AAPL</td>\n",
              "      <td>2021-05-13 00:00:00+00:00</td>\n",
              "      <td>124.97</td>\n",
              "      <td>126.15</td>\n",
              "      <td>124.26</td>\n",
              "      <td>124.58</td>\n",
              "      <td>105861339</td>\n",
              "      <td>124.97</td>\n",
              "      <td>126.15</td>\n",
              "      <td>124.26</td>\n",
              "      <td>124.58</td>\n",
              "      <td>105861339</td>\n",
              "      <td>0.0</td>\n",
              "      <td>1.0</td>\n",
              "    </tr>\n",
              "    <tr>\n",
              "      <th>1254</th>\n",
              "      <td>AAPL</td>\n",
              "      <td>2021-05-14 00:00:00+00:00</td>\n",
              "      <td>127.45</td>\n",
              "      <td>127.89</td>\n",
              "      <td>125.85</td>\n",
              "      <td>126.25</td>\n",
              "      <td>81917951</td>\n",
              "      <td>127.45</td>\n",
              "      <td>127.89</td>\n",
              "      <td>125.85</td>\n",
              "      <td>126.25</td>\n",
              "      <td>81917951</td>\n",
              "      <td>0.0</td>\n",
              "      <td>1.0</td>\n",
              "    </tr>\n",
              "    <tr>\n",
              "      <th>1255</th>\n",
              "      <td>AAPL</td>\n",
              "      <td>2021-05-17 00:00:00+00:00</td>\n",
              "      <td>126.27</td>\n",
              "      <td>126.93</td>\n",
              "      <td>125.17</td>\n",
              "      <td>126.82</td>\n",
              "      <td>74244624</td>\n",
              "      <td>126.27</td>\n",
              "      <td>126.93</td>\n",
              "      <td>125.17</td>\n",
              "      <td>126.82</td>\n",
              "      <td>74244624</td>\n",
              "      <td>0.0</td>\n",
              "      <td>1.0</td>\n",
              "    </tr>\n",
              "    <tr>\n",
              "      <th>1256</th>\n",
              "      <td>AAPL</td>\n",
              "      <td>2021-05-18 00:00:00+00:00</td>\n",
              "      <td>124.85</td>\n",
              "      <td>126.99</td>\n",
              "      <td>124.78</td>\n",
              "      <td>126.56</td>\n",
              "      <td>63342929</td>\n",
              "      <td>124.85</td>\n",
              "      <td>126.99</td>\n",
              "      <td>124.78</td>\n",
              "      <td>126.56</td>\n",
              "      <td>63342929</td>\n",
              "      <td>0.0</td>\n",
              "      <td>1.0</td>\n",
              "    </tr>\n",
              "  </tbody>\n",
              "</table>\n",
              "</div>"
            ],
            "text/plain": [
              "     symbol                       date   close  ...  adjVolume  divCash  splitFactor\n",
              "1252   AAPL  2021-05-12 00:00:00+00:00  122.77  ...  112172282      0.0          1.0\n",
              "1253   AAPL  2021-05-13 00:00:00+00:00  124.97  ...  105861339      0.0          1.0\n",
              "1254   AAPL  2021-05-14 00:00:00+00:00  127.45  ...   81917951      0.0          1.0\n",
              "1255   AAPL  2021-05-17 00:00:00+00:00  126.27  ...   74244624      0.0          1.0\n",
              "1256   AAPL  2021-05-18 00:00:00+00:00  124.85  ...   63342929      0.0          1.0\n",
              "\n",
              "[5 rows x 14 columns]"
            ]
          },
          "metadata": {
            "tags": []
          },
          "execution_count": 8
        }
      ]
    },
    {
      "cell_type": "code",
      "metadata": {
        "id": "HgC3U2fGYbWk"
      },
      "source": [
        "df1=df.reset_index()['close']"
      ],
      "execution_count": null,
      "outputs": []
    },
    {
      "cell_type": "code",
      "metadata": {
        "colab": {
          "base_uri": "https://localhost:8080/"
        },
        "id": "wymGg3ysYbWm",
        "outputId": "f8f819f8-7002-42a6-cd34-7280297ea7f6"
      },
      "source": [
        "df1"
      ],
      "execution_count": null,
      "outputs": [
        {
          "output_type": "execute_result",
          "data": {
            "text/plain": [
              "0        95.22\n",
              "1        96.43\n",
              "2        97.90\n",
              "3        99.62\n",
              "4       100.41\n",
              "         ...  \n",
              "1252    122.77\n",
              "1253    124.97\n",
              "1254    127.45\n",
              "1255    126.27\n",
              "1256    124.85\n",
              "Name: close, Length: 1257, dtype: float64"
            ]
          },
          "metadata": {
            "tags": []
          },
          "execution_count": 10
        }
      ]
    },
    {
      "cell_type": "code",
      "metadata": {
        "colab": {
          "base_uri": "https://localhost:8080/",
          "height": 282
        },
        "id": "JF4bpc4hYbWp",
        "outputId": "e8921081-4bed-4d1e-a811-d106a218be0b"
      },
      "source": [
        "import matplotlib.pyplot as plt\n",
        "plt.plot(df1)"
      ],
      "execution_count": null,
      "outputs": [
        {
          "output_type": "execute_result",
          "data": {
            "text/plain": [
              "[<matplotlib.lines.Line2D at 0x7f0c11da2410>]"
            ]
          },
          "metadata": {
            "tags": []
          },
          "execution_count": 11
        },
        {
          "output_type": "display_data",
          "data": {
            "image/png": "[encoded data removed]",
            "text/plain": [
              "<Figure size 432x288 with 1 Axes>"
            ]
          },
          "metadata": {
            "tags": [],
            "needs_background": "light"
          }
        }
      ]
    },
    {
      "cell_type": "code",
      "metadata": {
        "id": "3cr8Hv3lYbWr"
      },
      "source": [
        "### LSTM are sensitive to the scale of the data. so we apply MinMax scaler "
      ],
      "execution_count": null,
      "outputs": []
    },
    {
      "cell_type": "code",
      "metadata": {
        "id": "4MwgeHKJYbWs"
      },
      "source": [
        "import numpy as np"
      ],
      "execution_count": null,
      "outputs": []
    },
    {
      "cell_type": "code",
      "metadata": {
        "colab": {
          "base_uri": "https://localhost:8080/"
        },
        "id": "FNj0PR-TYbWu",
        "outputId": "1f8dc2f1-ac10-4214-ab55-c632042cc4af"
      },
      "source": [
        "df1"
      ],
      "execution_count": null,
      "outputs": [
        {
          "output_type": "execute_result",
          "data": {
            "text/plain": [
              "0        95.22\n",
              "1        96.43\n",
              "2        97.90\n",
              "3        99.62\n",
              "4       100.41\n",
              "         ...  \n",
              "1252    122.77\n",
              "1253    124.97\n",
              "1254    127.45\n",
              "1255    126.27\n",
              "1256    124.85\n",
              "Name: close, Length: 1257, dtype: float64"
            ]
          },
          "metadata": {
            "tags": []
          },
          "execution_count": 13
        }
      ]
    },
    {
      "cell_type": "code",
      "metadata": {
        "id": "SwTRfvB4YbWv"
      },
      "source": [
        "from sklearn.preprocessing import MinMaxScaler\n",
        "scaler=MinMaxScaler(feature_range=(0,1))\n",
        "df1=scaler.fit_transform(np.array(df1).reshape(-1,1))"
      ],
      "execution_count": null,
      "outputs": []
    },
    {
      "cell_type": "code",
      "metadata": {
        "colab": {
          "base_uri": "https://localhost:8080/"
        },
        "id": "qUzanh0hYbWw",
        "outputId": "173fcc6e-a287-4a4e-ade2-ab9049c23985"
      },
      "source": [
        "print(df1)"
      ],
      "execution_count": null,
      "outputs": [
        {
          "output_type": "stream",
          "text": [
            "[[0.00768023]\n",
            " [0.01060258]\n",
            " [0.01415288]\n",
            " ...\n",
            " [0.08552107]\n",
            " [0.08267117]\n",
            " [0.07924164]]\n"
          ],
          "name": "stdout"
        }
      ]
    },
    {
      "cell_type": "code",
      "metadata": {
        "id": "XerHSV3zYbWy"
      },
      "source": [
        "##splitting dataset into train and test split\n",
        "training_size=int(len(df1)*0.65)\n",
        "test_size=len(df1)-training_size\n",
        "train_data,test_data=df1[0:training_size,:],df1[training_size:len(df1),:1]"
      ],
      "execution_count": null,
      "outputs": []
    },
    {
      "cell_type": "code",
      "metadata": {
        "colab": {
          "base_uri": "https://localhost:8080/"
        },
        "id": "lPZrx6QtYbWz",
        "outputId": "d5986277-f356-43b3-f87e-c5b89abe5894"
      },
      "source": [
        "training_size,test_size"
      ],
      "execution_count": null,
      "outputs": [
        {
          "output_type": "execute_result",
          "data": {
            "text/plain": [
              "(817, 440)"
            ]
          },
          "metadata": {
            "tags": []
          },
          "execution_count": 17
        }
      ]
    },
    {
      "cell_type": "code",
      "metadata": {
        "colab": {
          "base_uri": "https://localhost:8080/"
        },
        "id": "rAF-BDHAYbW1",
        "outputId": "24667368-a6d4-43c9-d428-93ee9e859931"
      },
      "source": [
        "train_data"
      ],
      "execution_count": null,
      "outputs": [
        {
          "output_type": "execute_result",
          "data": {
            "text/plain": [
              "array([[0.00768023],\n",
              "       [0.01060258],\n",
              "       [0.01415288],\n",
              "       [0.01830697],\n",
              "       [0.02021495],\n",
              "       [0.02007004],\n",
              "       [0.01888661],\n",
              "       [0.01550537],\n",
              "       [0.01371815],\n",
              "       [0.01420118],\n",
              "       [0.01591595],\n",
              "       [0.01688202],\n",
              "       [0.01666465],\n",
              "       [0.01837942],\n",
              "       [0.01639899],\n",
              "       [0.01280039],\n",
              "       [0.01309021],\n",
              "       [0.01231735],\n",
              "       [0.01330757],\n",
              "       [0.0079459 ],\n",
              "       [0.00739041],\n",
              "       [0.0093467 ],\n",
              "       [0.00847724],\n",
              "       [0.00980558],\n",
              "       [0.00328463],\n",
              "       [0.        ],\n",
              "       [0.00374351],\n",
              "       [0.00569979],\n",
              "       [0.008598  ],\n",
              "       [0.00929839],\n",
              "       [0.00712474],\n",
              "       [0.00842893],\n",
              "       [0.00941915],\n",
              "       [0.01120638],\n",
              "       [0.01193093],\n",
              "       [0.0129936 ],\n",
              "       [0.01166526],\n",
              "       [0.01630238],\n",
              "       [0.01627823],\n",
              "       [0.01881415],\n",
              "       [0.01891076],\n",
              "       [0.01912812],\n",
              "       [0.01784809],\n",
              "       [0.01598841],\n",
              "       [0.01280039],\n",
              "       [0.01118222],\n",
              "       [0.02634947],\n",
              "       [0.02970656],\n",
              "       [0.02939259],\n",
              "       [0.03383649],\n",
              "       [0.03004468],\n",
              "       [0.03320855],\n",
              "       [0.03340176],\n",
              "       [0.03729018],\n",
              "       [0.03943968],\n",
              "       [0.04050235],\n",
              "       [0.03854607],\n",
              "       [0.03837701],\n",
              "       [0.0389808 ],\n",
              "       [0.04212052],\n",
              "       [0.041879  ],\n",
              "       [0.04149257],\n",
              "       [0.04115445],\n",
              "       [0.0418307 ],\n",
              "       [0.0397778 ],\n",
              "       [0.04059896],\n",
              "       [0.03861852],\n",
              "       [0.03750755],\n",
              "       [0.03598599],\n",
              "       [0.03569617],\n",
              "       [0.03371573],\n",
              "       [0.03395725],\n",
              "       [0.03547881],\n",
              "       [0.03789397],\n",
              "       [0.03782152],\n",
              "       [0.03941553],\n",
              "       [0.03255645],\n",
              "       [0.0267842 ],\n",
              "       [0.03236324],\n",
              "       [0.03842531],\n",
              "       [0.04765125],\n",
              "       [0.05682889],\n",
              "       [0.05525903],\n",
              "       [0.0520227 ],\n",
              "       [0.05199855],\n",
              "       [0.05195025],\n",
              "       [0.05453448],\n",
              "       [0.04992151],\n",
              "       [0.05033209],\n",
              "       [0.05083927],\n",
              "       [0.05291631],\n",
              "       [0.04864147],\n",
              "       [0.05074266],\n",
              "       [0.04946263],\n",
              "       [0.05062191],\n",
              "       [0.05074266],\n",
              "       [0.0527714 ],\n",
              "       [0.05318198],\n",
              "       [0.05798817],\n",
              "       [0.05859196],\n",
              "       [0.06110373],\n",
              "       [0.06023427],\n",
              "       [0.06180413],\n",
              "       [0.06161092],\n",
              "       [0.0614177 ],\n",
              "       [0.06057239],\n",
              "       [0.06042748],\n",
              "       [0.05931651],\n",
              "       [0.06185243],\n",
              "       [0.06330153],\n",
              "       [0.05687719],\n",
              "       [0.05419635],\n",
              "       [0.05236083],\n",
              "       [0.0519261 ],\n",
              "       [0.046975  ],\n",
              "       [0.04721652],\n",
              "       [0.04296583],\n",
              "       [0.04057481],\n",
              "       [0.04436662],\n",
              "       [0.04593648],\n",
              "       [0.04550175],\n",
              "       [0.03803888],\n",
              "       [0.03958459],\n",
              "       [0.03301534],\n",
              "       [0.03639657],\n",
              "       [0.04335225],\n",
              "       [0.04325565],\n",
              "       [0.04352131],\n",
              "       [0.04755464],\n",
              "       [0.0477237 ],\n",
              "       [0.04634706],\n",
              "       [0.04769955],\n",
              "       [0.04716822],\n",
              "       [0.04690255],\n",
              "       [0.04463229],\n",
              "       [0.04214467],\n",
              "       [0.04313489],\n",
              "       [0.0412269 ],\n",
              "       [0.04325565],\n",
              "       [0.04586403],\n",
              "       [0.04849656],\n",
              "       [0.05291631],\n",
              "       [0.05134646],\n",
              "       [0.05591112],\n",
              "       [0.05591112],\n",
              "       [0.05743268],\n",
              "       [0.05779495],\n",
              "       [0.05941311],\n",
              "       [0.06016182],\n",
              "       [0.06042748],\n",
              "       [0.05856781],\n",
              "       [0.05912329],\n",
              "       [0.06091052],\n",
              "       [0.05970293],\n",
              "       [0.05963048],\n",
              "       [0.05743268],\n",
              "       [0.05822968],\n",
              "       [0.05791571],\n",
              "       [0.05934066],\n",
              "       [0.06248038],\n",
              "       [0.06508876],\n",
              "       [0.06537858],\n",
              "       [0.06692428],\n",
              "       [0.0657167 ],\n",
              "       [0.06520952],\n",
              "       [0.06752808],\n",
              "       [0.06750392],\n",
              "       [0.06699674],\n",
              "       [0.06752808],\n",
              "       [0.06772129],\n",
              "       [0.06745562],\n",
              "       [0.07206859],\n",
              "       [0.0722135 ],\n",
              "       [0.07223765],\n",
              "       [0.0714648 ],\n",
              "       [0.07078855],\n",
              "       [0.08866079],\n",
              "       [0.08812945],\n",
              "       [0.08945779],\n",
              "       [0.09238015],\n",
              "       [0.09537495],\n",
              "       [0.09660669],\n",
              "       [0.09752445],\n",
              "       [0.0967999 ],\n",
              "       [0.09962565],\n",
              "       [0.10380389],\n",
              "       [0.10498732],\n",
              "       [0.10458882],\n",
              "       [0.10549451],\n",
              "       [0.10786137],\n",
              "       [0.10885159],\n",
              "       [0.10745079],\n",
              "       [0.10776476],\n",
              "       [0.10841686],\n",
              "       [0.10856177],\n",
              "       [0.11532424],\n",
              "       [0.11331965],\n",
              "       [0.11530008],\n",
              "       [0.11423741],\n",
              "       [0.11467214],\n",
              "       [0.11341625],\n",
              "       [0.1126434 ],\n",
              "       [0.11375438],\n",
              "       [0.11389929],\n",
              "       [0.1133921 ],\n",
              "       [0.1169424 ],\n",
              "       [0.11749789],\n",
              "       [0.11580727],\n",
              "       [0.11935757],\n",
              "       [0.11544499],\n",
              "       [0.11926096],\n",
              "       [0.11805338],\n",
              "       [0.11737713],\n",
              "       [0.11795677],\n",
              "       [0.12500906],\n",
              "       [0.12578191],\n",
              "       [0.12532303],\n",
              "       [0.12467093],\n",
              "       [0.12476754],\n",
              "       [0.12735177],\n",
              "       [0.12554039],\n",
              "       [0.12467093],\n",
              "       [0.12389808],\n",
              "       [0.1234875 ],\n",
              "       [0.11976814],\n",
              "       [0.12017872],\n",
              "       [0.11836735],\n",
              "       [0.12025118],\n",
              "       [0.11872962],\n",
              "       [0.11747374],\n",
              "       [0.12172443],\n",
              "       [0.12131385],\n",
              "       [0.12462263],\n",
              "       [0.12677213],\n",
              "       [0.12471924],\n",
              "       [0.12498491],\n",
              "       [0.12464678],\n",
              "       [0.13172322],\n",
              "       [0.13396933],\n",
              "       [0.1328825 ],\n",
              "       [0.13160246],\n",
              "       [0.13747132],\n",
              "       [0.14725275],\n",
              "       [0.14961961],\n",
              "       [0.14785654],\n",
              "       [0.149523  ],\n",
              "       [0.15471561],\n",
              "       [0.15374955],\n",
              "       [0.15319406],\n",
              "       [0.14058689],\n",
              "       [0.14611762],\n",
              "       [0.14737351],\n",
              "       [0.14961961],\n",
              "       [0.14916073],\n",
              "       [0.14804975],\n",
              "       [0.14932979],\n",
              "       [0.14870185],\n",
              "       [0.14884676],\n",
              "       [0.14664896],\n",
              "       [0.14766333],\n",
              "       [0.15314576],\n",
              "       [0.1494747 ],\n",
              "       [0.15073059],\n",
              "       [0.15295254],\n",
              "       [0.15203478],\n",
              "       [0.13751962],\n",
              "       [0.12892163],\n",
              "       [0.13174737],\n",
              "       [0.12829368],\n",
              "       [0.12619249],\n",
              "       [0.12131385],\n",
              "       [0.13114358],\n",
              "       [0.12793141],\n",
              "       [0.13000845],\n",
              "       [0.12942881],\n",
              "       [0.13099867],\n",
              "       [0.12988769],\n",
              "       [0.12484   ],\n",
              "       [0.12991185],\n",
              "       [0.12471924],\n",
              "       [0.12554039],\n",
              "       [0.12428451],\n",
              "       [0.12570946],\n",
              "       [0.12242483],\n",
              "       [0.12592682],\n",
              "       [0.12805217],\n",
              "       [0.1291873 ],\n",
              "       [0.12969448],\n",
              "       [0.13459727],\n",
              "       [0.13766453],\n",
              "       [0.13892042],\n",
              "       [0.14017631],\n",
              "       [0.14244656],\n",
              "       [0.14080425],\n",
              "       [0.14063519],\n",
              "       [0.14503079],\n",
              "       [0.14660065],\n",
              "       [0.14833957],\n",
              "       [0.14133559],\n",
              "       [0.13877551],\n",
              "       [0.13691583],\n",
              "       [0.14010385],\n",
              "       [0.15722739],\n",
              "       [0.15343558],\n",
              "       [0.15541601],\n",
              "       [0.16126072],\n",
              "       [0.16432798],\n",
              "       [0.16669484],\n",
              "       [0.15283178],\n",
              "       [0.15804854],\n",
              "       [0.16377249],\n",
              "       [0.16799903],\n",
              "       [0.16642918],\n",
              "       [0.15896631],\n",
              "       [0.15809685],\n",
              "       [0.15739645],\n",
              "       [0.16360343],\n",
              "       [0.16408646],\n",
              "       [0.16237169],\n",
              "       [0.16379664],\n",
              "       [0.16768506],\n",
              "       [0.1711629 ],\n",
              "       [0.17222558],\n",
              "       [0.17379544],\n",
              "       [0.17391619],\n",
              "       [0.16915831],\n",
              "       [0.16874774],\n",
              "       [0.16717788],\n",
              "       [0.16082599],\n",
              "       [0.16775752],\n",
              "       [0.16621181],\n",
              "       [0.16328946],\n",
              "       [0.15998068],\n",
              "       [0.16384495],\n",
              "       [0.16092259],\n",
              "       [0.1610675 ],\n",
              "       [0.15464316],\n",
              "       [0.14817051],\n",
              "       [0.14454776],\n",
              "       [0.14131144],\n",
              "       [0.14756672],\n",
              "       [0.15019925],\n",
              "       [0.14790484],\n",
              "       [0.14993358],\n",
              "       [0.14918488],\n",
              "       [0.15080304],\n",
              "       [0.14838788],\n",
              "       [0.15300085],\n",
              "       [0.15278348],\n",
              "       [0.15408767],\n",
              "       [0.15423258],\n",
              "       [0.15580244],\n",
              "       [0.1544741 ],\n",
              "       [0.15686511],\n",
              "       [0.16384495],\n",
              "       [0.16526989],\n",
              "       [0.16355513],\n",
              "       [0.15442579],\n",
              "       [0.15507789],\n",
              "       [0.15488468],\n",
              "       [0.15713078],\n",
              "       [0.15546432],\n",
              "       [0.15787948],\n",
              "       [0.17150103],\n",
              "       [0.18036469],\n",
              "       [0.18596788],\n",
              "       [0.18077527],\n",
              "       [0.18372177],\n",
              "       [0.19432436],\n",
              "       [0.1985509 ],\n",
              "       [0.19990339],\n",
              "       [0.20335708],\n",
              "       [0.20248762],\n",
              "       [0.19956527],\n",
              "       [0.19787465],\n",
              "       [0.19152276],\n",
              "       [0.18606448],\n",
              "       [0.19094312],\n",
              "       [0.18864871],\n",
              "       [0.18823814],\n",
              "       [0.19587006],\n",
              "       [0.20026567],\n",
              "       [0.20028982],\n",
              "       [0.19816447],\n",
              "       [0.195701  ],\n",
              "       [0.18703055],\n",
              "       [0.1927545 ],\n",
              "       [0.19082236],\n",
              "       [0.18780341],\n",
              "       [0.18741698],\n",
              "       [0.18589542],\n",
              "       [0.18664413],\n",
              "       [0.18676488],\n",
              "       [0.19473494],\n",
              "       [0.19239222],\n",
              "       [0.19376887],\n",
              "       [0.19364811],\n",
              "       [0.19787465],\n",
              "       [0.20379181],\n",
              "       [0.1992513 ],\n",
              "       [0.19879242],\n",
              "       [0.20038643],\n",
              "       [0.20038643],\n",
              "       [0.18966308],\n",
              "       [0.18973554],\n",
              "       [0.19089482],\n",
              "       [0.18642676],\n",
              "       [0.19374472],\n",
              "       [0.19367226],\n",
              "       [0.1956044 ],\n",
              "       [0.20036228],\n",
              "       [0.19879242],\n",
              "       [0.19874411],\n",
              "       [0.19864751],\n",
              "       [0.20103852],\n",
              "       [0.20540997],\n",
              "       [0.20323632],\n",
              "       [0.21026446],\n",
              "       [0.21065089],\n",
              "       [0.20871875],\n",
              "       [0.20519261],\n",
              "       [0.20528922],\n",
              "       [0.19847844],\n",
              "       [0.19096727],\n",
              "       [0.19193334],\n",
              "       [0.1833595 ],\n",
              "       [0.18096848],\n",
              "       [0.18207946],\n",
              "       [0.18292477],\n",
              "       [0.16534235],\n",
              "       [0.15565753],\n",
              "       [0.17145272],\n",
              "       [0.16302379],\n",
              "       [0.15242121],\n",
              "       [0.15546432],\n",
              "       [0.17067987],\n",
              "       [0.17461659],\n",
              "       [0.18193455],\n",
              "       [0.19550779],\n",
              "       [0.1941553 ],\n",
              "       [0.1927545 ],\n",
              "       [0.19087067],\n",
              "       [0.19432436],\n",
              "       [0.20156986],\n",
              "       [0.20995049],\n",
              "       [0.20854969],\n",
              "       [0.2078976 ],\n",
              "       [0.20036228],\n",
              "       [0.20328463],\n",
              "       [0.20475788],\n",
              "       [0.2043956 ],\n",
              "       [0.20043473],\n",
              "       [0.2050477 ],\n",
              "       [0.21238981],\n",
              "       [0.2165922 ],\n",
              "       [0.21236566],\n",
              "       [0.20867045],\n",
              "       [0.20917764],\n",
              "       [0.20765608],\n",
              "       [0.20108683],\n",
              "       [0.20094192],\n",
              "       [0.1913537 ],\n",
              "       [0.185509  ],\n",
              "       [0.17606569],\n",
              "       [0.19497645],\n",
              "       [0.18427726],\n",
              "       [0.17978505],\n",
              "       [0.18292477],\n",
              "       [0.18026808],\n",
              "       [0.18439802],\n",
              "       [0.19217486],\n",
              "       [0.19504891],\n",
              "       [0.18437387],\n",
              "       [0.1884072 ],\n",
              "       [0.19613573],\n",
              "       [0.19417945],\n",
              "       [0.19828523],\n",
              "       [0.19971018],\n",
              "       [0.20234271],\n",
              "       [0.20818742],\n",
              "       [0.20722135],\n",
              "       [0.19504891],\n",
              "       [0.17794952],\n",
              "       [0.17679024],\n",
              "       [0.17123536],\n",
              "       [0.17295013],\n",
              "       [0.17432677],\n",
              "       [0.16973795],\n",
              "       [0.17683855],\n",
              "       [0.18611279],\n",
              "       [0.20415409],\n",
              "       [0.20492694],\n",
              "       [0.2216882 ],\n",
              "       [0.22490037],\n",
              "       [0.22704987],\n",
              "       [0.23021374],\n",
              "       [0.23668639],\n",
              "       [0.2331844 ],\n",
              "       [0.23212172],\n",
              "       [0.22799179],\n",
              "       [0.23219418],\n",
              "       [0.22932013],\n",
              "       [0.22767782],\n",
              "       [0.23086584],\n",
              "       [0.22973071],\n",
              "       [0.23262891],\n",
              "       [0.23212172],\n",
              "       [0.23316025],\n",
              "       [0.23151793],\n",
              "       [0.23055187],\n",
              "       [0.22903031],\n",
              "       [0.23716942],\n",
              "       [0.24100954],\n",
              "       [0.24458399],\n",
              "       [0.24620215],\n",
              "       [0.24494626],\n",
              "       [0.24069557],\n",
              "       [0.23956044],\n",
              "       [0.24209637],\n",
              "       [0.2382804 ],\n",
              "       [0.23852192],\n",
              "       [0.23378819],\n",
              "       [0.23354667],\n",
              "       [0.22618041],\n",
              "       [0.2281367 ],\n",
              "       [0.22562492],\n",
              "       [0.22432073],\n",
              "       [0.21767902],\n",
              "       [0.2231373 ],\n",
              "       [0.22248521],\n",
              "       [0.22572153],\n",
              "       [0.22477962],\n",
              "       [0.22977901],\n",
              "       [0.22190557],\n",
              "       [0.22548001],\n",
              "       [0.23168699],\n",
              "       [0.23799058],\n",
              "       [0.23743509],\n",
              "       [0.23146963],\n",
              "       [0.23907741],\n",
              "       [0.23980196],\n",
              "       [0.23878759],\n",
              "       [0.24009178],\n",
              "       [0.23755585],\n",
              "       [0.2411303 ],\n",
              "       [0.24006762],\n",
              "       [0.2404782 ],\n",
              "       [0.24383529],\n",
              "       [0.24823089],\n",
              "       [0.24675764],\n",
              "       [0.23895665],\n",
              "       [0.23637242],\n",
              "       [0.23729018],\n",
              "       [0.26436421],\n",
              "       [0.27858954],\n",
              "       [0.28003864],\n",
              "       [0.28264702],\n",
              "       [0.2779133 ],\n",
              "       [0.27825142],\n",
              "       [0.28218814],\n",
              "       [0.27892767],\n",
              "       [0.28216399],\n",
              "       [0.28428934],\n",
              "       [0.28547277],\n",
              "       [0.29291148],\n",
              "       [0.3032001 ],\n",
              "       [0.29807994],\n",
              "       [0.29706557],\n",
              "       [0.29708972],\n",
              "       [0.2981524 ],\n",
              "       [0.29977056],\n",
              "       [0.30406956],\n",
              "       [0.30832025],\n",
              "       [0.316242  ],\n",
              "       [0.32119309],\n",
              "       [0.32747253],\n",
              "       [0.3292356 ],\n",
              "       [0.325637  ],\n",
              "       [0.31653182],\n",
              "       [0.31218452],\n",
              "       [0.30501147],\n",
              "       [0.3183432 ],\n",
              "       [0.31162903],\n",
              "       [0.32452602],\n",
              "       [0.31831904],\n",
              "       [0.30392465],\n",
              "       [0.30479411],\n",
              "       [0.30510808],\n",
              "       [0.30911726],\n",
              "       [0.30339331],\n",
              "       [0.31095278],\n",
              "       [0.31433402],\n",
              "       [0.31005917],\n",
              "       [0.32099988],\n",
              "       [0.32290786],\n",
              "       [0.32657892],\n",
              "       [0.33145755],\n",
              "       [0.33819587],\n",
              "       [0.32834199],\n",
              "       [0.31940587],\n",
              "       [0.31814998],\n",
              "       [0.325637  ],\n",
              "       [0.30025359],\n",
              "       [0.29564062],\n",
              "       [0.3141408 ],\n",
              "       [0.30266876],\n",
              "       [0.31423741],\n",
              "       [0.31191885],\n",
              "       [0.29943244],\n",
              "       [0.30737834],\n",
              "       [0.31061466],\n",
              "       [0.31563821],\n",
              "       [0.29718633],\n",
              "       [0.30856177],\n",
              "       [0.30010868],\n",
              "       [0.2903031 ],\n",
              "       [0.29286318],\n",
              "       [0.30629151],\n",
              "       [0.31440647],\n",
              "       [0.27880691],\n",
              "       [0.26458157],\n",
              "       [0.26984664],\n",
              "       [0.28477237],\n",
              "       [0.28124623],\n",
              "       [0.27153725],\n",
              "       [0.24666103],\n",
              "       [0.24197561],\n",
              "       [0.22886125],\n",
              "       [0.23999517],\n",
              "       [0.24511532],\n",
              "       [0.22659099],\n",
              "       [0.20514431],\n",
              "       [0.20466127],\n",
              "       [0.19381717],\n",
              "       [0.19944451],\n",
              "       [0.19852675],\n",
              "       [0.21470837],\n",
              "       [0.21135129],\n",
              "       [0.20900857],\n",
              "       [0.22407922],\n",
              "       [0.20444391],\n",
              "       [0.19968603],\n",
              "       [0.18463954],\n",
              "       [0.18732037],\n",
              "       [0.18497766],\n",
              "       [0.18611279],\n",
              "       [0.19058085],\n",
              "       [0.17736988],\n",
              "       [0.17365053],\n",
              "       [0.17879483],\n",
              "       [0.16628427],\n",
              "       [0.15647869],\n",
              "       [0.14174617],\n",
              "       [0.13232701],\n",
              "       [0.15729984],\n",
              "       [0.15483637],\n",
              "       [0.15502959],\n",
              "       [0.15867649],\n",
              "       [0.15911122],\n",
              "       [0.12112064],\n",
              "       [0.1357807 ],\n",
              "       [0.1349837 ],\n",
              "       [0.14179447],\n",
              "       [0.1479773 ],\n",
              "       [0.14916073],\n",
              "       [0.14551383],\n",
              "       [0.13998309],\n",
              "       [0.14739766],\n",
              "       [0.15191402],\n",
              "       [0.15413597],\n",
              "       [0.15645453],\n",
              "       [0.14795315],\n",
              "       [0.14945055],\n",
              "       [0.14650405],\n",
              "       [0.15872479],\n",
              "       [0.15519865],\n",
              "       [0.15128608],\n",
              "       [0.17681439],\n",
              "       [0.17968844],\n",
              "       [0.17988166],\n",
              "       [0.1913054 ],\n",
              "       [0.19838184],\n",
              "       [0.19852675],\n",
              "       [0.1905567 ],\n",
              "       [0.18927666],\n",
              "       [0.18690979],\n",
              "       [0.19043594],\n",
              "       [0.18872117],\n",
              "       [0.19021857],\n",
              "       [0.18930081],\n",
              "       [0.19053254],\n",
              "       [0.19318923],\n",
              "       [0.19084652],\n",
              "       [0.19545949],\n",
              "       [0.1985026 ],\n",
              "       [0.19874411],\n",
              "       [0.2000483 ],\n",
              "       [0.19589422],\n",
              "       [0.20028982],\n",
              "       [0.20241517],\n",
              "       [0.20164231],\n",
              "       [0.19920299],\n",
              "       [0.19432436],\n",
              "       [0.19531458],\n",
              "       [0.20978143],\n",
              "       [0.21463591],\n",
              "       [0.21656805],\n",
              "       [0.22144669],\n",
              "       [0.22721893],\n",
              "       [0.23180775],\n",
              "       [0.22820915],\n",
              "       [0.23214588],\n",
              "       [0.24888299],\n",
              "       [0.23912571],\n",
              "       [0.23354667],\n",
              "       [0.2288371 ],\n",
              "       [0.23289458],\n",
              "       [0.23349837],\n",
              "       [0.23646903],\n",
              "       [0.23958459],\n",
              "       [0.24629876],\n",
              "       [0.24951093],\n",
              "       [0.25033209],\n",
              "       [0.25349595],\n",
              "       [0.26098297],\n",
              "       [0.25953387],\n",
              "       [0.26223886],\n",
              "       [0.25820553],\n",
              "       [0.25801232],\n",
              "       [0.25888178],\n",
              "       [0.25893008],\n",
              "       [0.26830093],\n",
              "       [0.270064  ],\n",
              "       [0.27168216],\n",
              "       [0.27880691],\n",
              "       [0.27803405],\n",
              "       [0.27349354],\n",
              "       [0.27112668],\n",
              "       [0.27187538],\n",
              "       [0.26235962],\n",
              "       [0.28614902],\n",
              "       [0.28284024],\n",
              "       [0.28911967],\n",
              "       [0.28122207],\n",
              "       [0.26764883],\n",
              "       [0.26774544],\n",
              "       [0.26248038],\n",
              "       [0.25393068],\n",
              "       [0.22625287],\n",
              "       [0.23335346],\n",
              "       [0.23881174],\n",
              "       [0.236783  ],\n",
              "       [0.23417462],\n",
              "       [0.21990098],\n",
              "       [0.22837822],\n",
              "       [0.21915228],\n",
              "       [0.21161695],\n",
              "       [0.20995049],\n",
              "       [0.20816327],\n",
              "       [0.20611037],\n",
              "       [0.20833233],\n",
              "       [0.20053134],\n",
              "       [0.19625649],\n",
              "       [0.21156865],\n",
              "       [0.21857264],\n",
              "       [0.22504528],\n",
              "       [0.23695206],\n",
              "       [0.24282092],\n",
              "       [0.24820674],\n",
              "       [0.24670933],\n",
              "       [0.24661273],\n",
              "       [0.24320734],\n",
              "       [0.24598478],\n",
              "       [0.25699795],\n",
              "       [0.25559715],\n",
              "       [0.25943727],\n",
              "       [0.25779495],\n",
              "       [0.25731192],\n",
              "       [0.25004227],\n",
              "       [0.26025842],\n",
              "       [0.26011351],\n",
              "       [0.25571791],\n",
              "       [0.26448497],\n",
              "       [0.26733486],\n",
              "       [0.27139234],\n",
              "       [0.27095761],\n",
              "       [0.26078976],\n",
              "       [0.26373626],\n",
              "       [0.26854245],\n",
              "       [0.264968  ],\n",
              "       [0.26871151],\n",
              "       [0.27332448],\n",
              "       [0.27160971],\n",
              "       [0.26883227],\n",
              "       [0.2744113 ],\n",
              "       [0.26699674],\n",
              "       [0.27817896],\n",
              "       [0.28209153],\n",
              "       [0.28168096],\n",
              "       [0.27769593],\n",
              "       [0.27943485],\n",
              "       [0.28412028],\n",
              "       [0.28194662],\n",
              "       [0.29223524],\n",
              "       [0.28110132],\n",
              "       [0.27045043],\n",
              "       [0.24465644],\n",
              "       [0.25349595],\n",
              "       [0.2584229 ],\n",
              "       [0.26902548],\n",
              "       [0.26313247],\n",
              "       [0.26190074],\n",
              "       [0.28240551],\n",
              "       [0.26738317],\n",
              "       [0.26494385],\n",
              "       [0.27644004],\n",
              "       [0.28573844]])"
            ]
          },
          "metadata": {
            "tags": []
          },
          "execution_count": 18
        }
      ]
    },
    {
      "cell_type": "code",
      "metadata": {
        "id": "YN1a2X3hYbW2"
      },
      "source": [
        "import numpy\n",
        "# convert an array of values into a dataset matrix\n",
        "def create_dataset(dataset, time_step=1):\n",
        "\tdataX, dataY = [], []\n",
        "\tfor i in range(len(dataset)-time_step-1):\n",
        "\t\ta = dataset[i:(i+time_step), 0]   ###i=0, 0,1,2,3-----99   100 \n",
        "\t\tdataX.append(a)\n",
        "\t\tdataY.append(dataset[i + time_step, 0])\n",
        "\treturn numpy.array(dataX), numpy.array(dataY)"
      ],
      "execution_count": null,
      "outputs": []
    },
    {
      "cell_type": "code",
      "metadata": {
        "id": "1ukAFNyZYbW7"
      },
      "source": [
        "# reshape into X=t,t+1,t+2,t+3 and Y=t+4\n",
        "time_step = 100\n",
        "X_train, y_train = create_dataset(train_data, time_step)\n",
        "X_test, ytest = create_dataset(test_data, time_step)"
      ],
      "execution_count": null,
      "outputs": []
    },
    {
      "cell_type": "code",
      "metadata": {
        "colab": {
          "base_uri": "https://localhost:8080/"
        },
        "id": "cT9wajphYbW8",
        "outputId": "06b43353-21f7-4c1d-aee4-bd746e163552"
      },
      "source": [
        "print(X_train.shape), print(y_train.shape)"
      ],
      "execution_count": null,
      "outputs": [
        {
          "output_type": "stream",
          "text": [
            "(716, 100)\n",
            "(716,)\n"
          ],
          "name": "stdout"
        },
        {
          "output_type": "execute_result",
          "data": {
            "text/plain": [
              "(None, None)"
            ]
          },
          "metadata": {
            "tags": []
          },
          "execution_count": 21
        }
      ]
    },
    {
      "cell_type": "code",
      "metadata": {
        "colab": {
          "base_uri": "https://localhost:8080/"
        },
        "id": "QySDDh25YbW-",
        "outputId": "61859f23-b657-4228-8cf2-e2cdbde3998b"
      },
      "source": [
        "print(X_test.shape), print(ytest.shape)"
      ],
      "execution_count": null,
      "outputs": [
        {
          "output_type": "stream",
          "text": [
            "(339, 100)\n",
            "(339,)\n"
          ],
          "name": "stdout"
        },
        {
          "output_type": "execute_result",
          "data": {
            "text/plain": [
              "(None, None)"
            ]
          },
          "metadata": {
            "tags": []
          },
          "execution_count": 22
        }
      ]
    },
    {
      "cell_type": "code",
      "metadata": {
        "id": "NA4mxEqyYbW_"
      },
      "source": [
        "# reshape input to be [samples, time steps, features] which is required for LSTM\n",
        "X_train =X_train.reshape(X_train.shape[0],X_train.shape[1] , 1)\n",
        "X_test = X_test.reshape(X_test.shape[0],X_test.shape[1] , 1)"
      ],
      "execution_count": null,
      "outputs": []
    },
    {
      "cell_type": "code",
      "metadata": {
        "id": "RmyhXpyXYbXB"
      },
      "source": [
        "### Create the Stacked LSTM model\n",
        "from tensorflow.keras.models import Sequential\n",
        "from tensorflow.keras.layers import Dense\n",
        "from tensorflow.keras.layers import LSTM"
      ],
      "execution_count": null,
      "outputs": []
    },
    {
      "cell_type": "code",
      "metadata": {
        "id": "PHYM0vHLYbXC"
      },
      "source": [
        "model=Sequential()\n",
        "model.add(LSTM(50,return_sequences=True,input_shape=(100,1)))\n",
        "model.add(LSTM(50,return_sequences=True))\n",
        "model.add(LSTM(50))\n",
        "model.add(Dense(1))\n",
        "model.compile(loss='mean_squared_error',optimizer='adam')\n"
      ],
      "execution_count": null,
      "outputs": []
    },
    {
      "cell_type": "code",
      "metadata": {
        "colab": {
          "base_uri": "https://localhost:8080/"
        },
        "id": "WYG8rqNpYbXD",
        "outputId": "9917fe04-ef20-4f72-c485-4fc8f5210fc0"
      },
      "source": [
        "model.summary()"
      ],
      "execution_count": null,
      "outputs": [
        {
          "output_type": "stream",
          "text": [
            "Model: \"sequential\"\n",
            "_________________________________________________________________\n",
            "Layer (type)                 Output Shape              Param #   \n",
            "=================================================================\n",
            "lstm (LSTM)                  (None, 100, 50)           10400     \n",
            "_________________________________________________________________\n",
            "lstm_1 (LSTM)                (None, 100, 50)           20200     \n",
            "_________________________________________________________________\n",
            "lstm_2 (LSTM)                (None, 50)                20200     \n",
            "_________________________________________________________________\n",
            "dense (Dense)                (None, 1)                 51        \n",
            "=================================================================\n",
            "Total params: 50,851\n",
            "Trainable params: 50,851\n",
            "Non-trainable params: 0\n",
            "_________________________________________________________________\n"
          ],
          "name": "stdout"
        }
      ]
    },
    {
      "cell_type": "code",
      "metadata": {
        "colab": {
          "base_uri": "https://localhost:8080/"
        },
        "id": "5DaRXcr6YbXF",
        "outputId": "f7f2871c-c17a-4840-a2ad-68f7eebb97cb"
      },
      "source": [
        "model.summary()"
      ],
      "execution_count": null,
      "outputs": [
        {
          "output_type": "stream",
          "text": [
            "Model: \"sequential\"\n",
            "_________________________________________________________________\n",
            "Layer (type)                 Output Shape              Param #   \n",
            "=================================================================\n",
            "lstm (LSTM)                  (None, 100, 50)           10400     \n",
            "_________________________________________________________________\n",
            "lstm_1 (LSTM)                (None, 100, 50)           20200     \n",
            "_________________________________________________________________\n",
            "lstm_2 (LSTM)                (None, 50)                20200     \n",
            "_________________________________________________________________\n",
            "dense (Dense)                (None, 1)                 51        \n",
            "=================================================================\n",
            "Total params: 50,851\n",
            "Trainable params: 50,851\n",
            "Non-trainable params: 0\n",
            "_________________________________________________________________\n"
          ],
          "name": "stdout"
        }
      ]
    },
    {
      "cell_type": "code",
      "metadata": {
        "id": "rgmKCE3gYbXG"
      },
      "source": [
        ""
      ],
      "execution_count": null,
      "outputs": []
    },
    {
      "cell_type": "code",
      "metadata": {
        "colab": {
          "base_uri": "https://localhost:8080/"
        },
        "id": "VxnC2EiRYbXH",
        "outputId": "dd4f6f4b-c06e-4c81-b53a-d86cb1d499eb"
      },
      "source": [
        "model.fit(X_train,y_train,validation_data=(X_test,ytest),epochs=100,batch_size=64,verbose=1)"
      ],
      "execution_count": null,
      "outputs": [
        {
          "output_type": "stream",
          "text": [
            "Epoch 1/100\n",
            "12/12 [==============================] - 7s 265ms/step - loss: 0.0203 - val_loss: 0.0485\n",
            "Epoch 2/100\n",
            "12/12 [==============================] - 2s 170ms/step - loss: 0.0030 - val_loss: 0.0272\n",
            "Epoch 3/100\n",
            "12/12 [==============================] - 2s 168ms/step - loss: 0.0014 - val_loss: 0.0233\n",
            "Epoch 4/100\n",
            "12/12 [==============================] - 2s 167ms/step - loss: 5.9501e-04 - val_loss: 0.0199\n",
            "Epoch 5/100\n",
            "12/12 [==============================] - 2s 170ms/step - loss: 5.0855e-04 - val_loss: 0.0196\n",
            "Epoch 6/100\n",
            "12/12 [==============================] - 2s 169ms/step - loss: 4.4814e-04 - val_loss: 0.0189\n",
            "Epoch 7/100\n",
            "12/12 [==============================] - 2s 168ms/step - loss: 3.8631e-04 - val_loss: 0.0185\n",
            "Epoch 8/100\n",
            "12/12 [==============================] - 2s 170ms/step - loss: 3.7555e-04 - val_loss: 0.0182\n",
            "Epoch 9/100\n",
            "12/12 [==============================] - 2s 170ms/step - loss: 3.9350e-04 - val_loss: 0.0177\n",
            "Epoch 10/100\n",
            "12/12 [==============================] - 2s 171ms/step - loss: 3.5344e-04 - val_loss: 0.0173\n",
            "Epoch 11/100\n",
            "12/12 [==============================] - 2s 170ms/step - loss: 3.3319e-04 - val_loss: 0.0171\n",
            "Epoch 12/100\n",
            "12/12 [==============================] - 2s 171ms/step - loss: 3.6966e-04 - val_loss: 0.0167\n",
            "Epoch 13/100\n",
            "12/12 [==============================] - 2s 173ms/step - loss: 3.4181e-04 - val_loss: 0.0161\n",
            "Epoch 14/100\n",
            "12/12 [==============================] - 2s 172ms/step - loss: 3.1652e-04 - val_loss: 0.0156\n",
            "Epoch 15/100\n",
            "12/12 [==============================] - 2s 174ms/step - loss: 3.1352e-04 - val_loss: 0.0153\n",
            "Epoch 16/100\n",
            "12/12 [==============================] - 2s 173ms/step - loss: 3.0875e-04 - val_loss: 0.0148\n",
            "Epoch 17/100\n",
            "12/12 [==============================] - 2s 173ms/step - loss: 2.8289e-04 - val_loss: 0.0144\n",
            "Epoch 18/100\n",
            "12/12 [==============================] - 2s 173ms/step - loss: 2.7005e-04 - val_loss: 0.0139\n",
            "Epoch 19/100\n",
            "12/12 [==============================] - 2s 176ms/step - loss: 2.6272e-04 - val_loss: 0.0135\n",
            "Epoch 20/100\n",
            "12/12 [==============================] - 2s 178ms/step - loss: 3.2587e-04 - val_loss: 0.0133\n",
            "Epoch 21/100\n",
            "12/12 [==============================] - 2s 175ms/step - loss: 2.5418e-04 - val_loss: 0.0130\n",
            "Epoch 22/100\n",
            "12/12 [==============================] - 2s 174ms/step - loss: 2.4789e-04 - val_loss: 0.0129\n",
            "Epoch 23/100\n",
            "12/12 [==============================] - 2s 174ms/step - loss: 2.1684e-04 - val_loss: 0.0125\n",
            "Epoch 24/100\n",
            "12/12 [==============================] - 2s 175ms/step - loss: 2.3949e-04 - val_loss: 0.0126\n",
            "Epoch 25/100\n",
            "12/12 [==============================] - 2s 176ms/step - loss: 2.3427e-04 - val_loss: 0.0129\n",
            "Epoch 26/100\n",
            "12/12 [==============================] - 2s 174ms/step - loss: 2.5135e-04 - val_loss: 0.0125\n",
            "Epoch 27/100\n",
            "12/12 [==============================] - 2s 178ms/step - loss: 2.2739e-04 - val_loss: 0.0125\n",
            "Epoch 28/100\n",
            "12/12 [==============================] - 2s 183ms/step - loss: 1.9292e-04 - val_loss: 0.0128\n",
            "Epoch 29/100\n",
            "12/12 [==============================] - 2s 175ms/step - loss: 2.3092e-04 - val_loss: 0.0122\n",
            "Epoch 30/100\n",
            "12/12 [==============================] - 2s 175ms/step - loss: 2.0908e-04 - val_loss: 0.0119\n",
            "Epoch 31/100\n",
            "12/12 [==============================] - 2s 173ms/step - loss: 2.1701e-04 - val_loss: 0.0118\n",
            "Epoch 32/100\n",
            "12/12 [==============================] - 2s 173ms/step - loss: 2.1254e-04 - val_loss: 0.0130\n",
            "Epoch 33/100\n",
            "12/12 [==============================] - 2s 175ms/step - loss: 2.1637e-04 - val_loss: 0.0121\n",
            "Epoch 34/100\n",
            "12/12 [==============================] - 2s 176ms/step - loss: 1.9116e-04 - val_loss: 0.0116\n",
            "Epoch 35/100\n",
            "12/12 [==============================] - 2s 177ms/step - loss: 1.8739e-04 - val_loss: 0.0122\n",
            "Epoch 36/100\n",
            "12/12 [==============================] - 2s 177ms/step - loss: 1.8807e-04 - val_loss: 0.0114\n",
            "Epoch 37/100\n",
            "12/12 [==============================] - 2s 176ms/step - loss: 2.1231e-04 - val_loss: 0.0115\n",
            "Epoch 38/100\n",
            "12/12 [==============================] - 2s 174ms/step - loss: 1.8984e-04 - val_loss: 0.0118\n",
            "Epoch 39/100\n",
            "12/12 [==============================] - 2s 173ms/step - loss: 1.9944e-04 - val_loss: 0.0106\n",
            "Epoch 40/100\n",
            "12/12 [==============================] - 2s 174ms/step - loss: 2.2096e-04 - val_loss: 0.0109\n",
            "Epoch 41/100\n",
            "12/12 [==============================] - 2s 173ms/step - loss: 1.9969e-04 - val_loss: 0.0110\n",
            "Epoch 42/100\n",
            "12/12 [==============================] - 2s 173ms/step - loss: 1.8720e-04 - val_loss: 0.0120\n",
            "Epoch 43/100\n",
            "12/12 [==============================] - 2s 173ms/step - loss: 2.0003e-04 - val_loss: 0.0110\n",
            "Epoch 44/100\n",
            "12/12 [==============================] - 2s 175ms/step - loss: 1.8631e-04 - val_loss: 0.0116\n",
            "Epoch 45/100\n",
            "12/12 [==============================] - 2s 175ms/step - loss: 2.0069e-04 - val_loss: 0.0105\n",
            "Epoch 46/100\n",
            "12/12 [==============================] - 2s 175ms/step - loss: 1.8383e-04 - val_loss: 0.0102\n",
            "Epoch 47/100\n",
            "12/12 [==============================] - 2s 177ms/step - loss: 1.6888e-04 - val_loss: 0.0108\n",
            "Epoch 48/100\n",
            "12/12 [==============================] - 2s 175ms/step - loss: 1.7863e-04 - val_loss: 0.0098\n",
            "Epoch 49/100\n",
            "12/12 [==============================] - 2s 175ms/step - loss: 1.9017e-04 - val_loss: 0.0098\n",
            "Epoch 50/100\n",
            "12/12 [==============================] - 2s 176ms/step - loss: 1.9234e-04 - val_loss: 0.0101\n",
            "Epoch 51/100\n",
            "12/12 [==============================] - 2s 176ms/step - loss: 1.8159e-04 - val_loss: 0.0102\n",
            "Epoch 52/100\n",
            "12/12 [==============================] - 2s 176ms/step - loss: 1.7102e-04 - val_loss: 0.0111\n",
            "Epoch 53/100\n",
            "12/12 [==============================] - 2s 176ms/step - loss: 1.9596e-04 - val_loss: 0.0099\n",
            "Epoch 54/100\n",
            "12/12 [==============================] - 2s 179ms/step - loss: 1.6950e-04 - val_loss: 0.0092\n",
            "Epoch 55/100\n",
            "12/12 [==============================] - 2s 179ms/step - loss: 2.0624e-04 - val_loss: 0.0097\n",
            "Epoch 56/100\n",
            "12/12 [==============================] - 2s 178ms/step - loss: 1.7074e-04 - val_loss: 0.0100\n",
            "Epoch 57/100\n",
            "12/12 [==============================] - 2s 179ms/step - loss: 1.6923e-04 - val_loss: 0.0090\n",
            "Epoch 58/100\n",
            "12/12 [==============================] - 2s 178ms/step - loss: 1.8534e-04 - val_loss: 0.0093\n",
            "Epoch 59/100\n",
            "12/12 [==============================] - 2s 178ms/step - loss: 1.5696e-04 - val_loss: 0.0092\n",
            "Epoch 60/100\n",
            "12/12 [==============================] - 2s 177ms/step - loss: 1.5587e-04 - val_loss: 0.0091\n",
            "Epoch 61/100\n",
            "12/12 [==============================] - 2s 176ms/step - loss: 1.7221e-04 - val_loss: 0.0088\n",
            "Epoch 62/100\n",
            "12/12 [==============================] - 2s 178ms/step - loss: 1.5596e-04 - val_loss: 0.0093\n",
            "Epoch 63/100\n",
            "12/12 [==============================] - 2s 175ms/step - loss: 1.6435e-04 - val_loss: 0.0083\n",
            "Epoch 64/100\n",
            "12/12 [==============================] - 2s 176ms/step - loss: 2.2861e-04 - val_loss: 0.0096\n",
            "Epoch 65/100\n",
            "12/12 [==============================] - 2s 177ms/step - loss: 1.5327e-04 - val_loss: 0.0082\n",
            "Epoch 66/100\n",
            "12/12 [==============================] - 2s 173ms/step - loss: 1.8674e-04 - val_loss: 0.0091\n",
            "Epoch 67/100\n",
            "12/12 [==============================] - 2s 173ms/step - loss: 1.5714e-04 - val_loss: 0.0091\n",
            "Epoch 68/100\n",
            "12/12 [==============================] - 2s 172ms/step - loss: 1.6026e-04 - val_loss: 0.0081\n",
            "Epoch 69/100\n",
            "12/12 [==============================] - 2s 174ms/step - loss: 1.4609e-04 - val_loss: 0.0085\n",
            "Epoch 70/100\n",
            "12/12 [==============================] - 2s 174ms/step - loss: 1.7320e-04 - val_loss: 0.0092\n",
            "Epoch 71/100\n",
            "12/12 [==============================] - 2s 176ms/step - loss: 1.9117e-04 - val_loss: 0.0075\n",
            "Epoch 72/100\n",
            "12/12 [==============================] - 2s 174ms/step - loss: 1.6285e-04 - val_loss: 0.0082\n",
            "Epoch 73/100\n",
            "12/12 [==============================] - 2s 175ms/step - loss: 1.4248e-04 - val_loss: 0.0075\n",
            "Epoch 74/100\n",
            "12/12 [==============================] - 2s 173ms/step - loss: 1.6200e-04 - val_loss: 0.0082\n",
            "Epoch 75/100\n",
            "12/12 [==============================] - 2s 175ms/step - loss: 1.4478e-04 - val_loss: 0.0086\n",
            "Epoch 76/100\n",
            "12/12 [==============================] - 2s 178ms/step - loss: 1.7481e-04 - val_loss: 0.0074\n",
            "Epoch 77/100\n",
            "12/12 [==============================] - 2s 176ms/step - loss: 1.6587e-04 - val_loss: 0.0085\n",
            "Epoch 78/100\n",
            "12/12 [==============================] - 2s 177ms/step - loss: 1.4512e-04 - val_loss: 0.0077\n",
            "Epoch 79/100\n",
            "12/12 [==============================] - 2s 173ms/step - loss: 1.2865e-04 - val_loss: 0.0083\n",
            "Epoch 80/100\n",
            "12/12 [==============================] - 2s 178ms/step - loss: 1.2197e-04 - val_loss: 0.0074\n",
            "Epoch 81/100\n",
            "12/12 [==============================] - 2s 174ms/step - loss: 1.3608e-04 - val_loss: 0.0070\n",
            "Epoch 82/100\n",
            "12/12 [==============================] - 2s 177ms/step - loss: 1.3632e-04 - val_loss: 0.0075\n",
            "Epoch 83/100\n",
            "12/12 [==============================] - 2s 177ms/step - loss: 1.6241e-04 - val_loss: 0.0087\n",
            "Epoch 84/100\n",
            "12/12 [==============================] - 2s 173ms/step - loss: 1.6306e-04 - val_loss: 0.0067\n",
            "Epoch 85/100\n",
            "12/12 [==============================] - 2s 176ms/step - loss: 1.3711e-04 - val_loss: 0.0070\n",
            "Epoch 86/100\n",
            "12/12 [==============================] - 2s 178ms/step - loss: 1.3436e-04 - val_loss: 0.0078\n",
            "Epoch 87/100\n",
            "12/12 [==============================] - 2s 174ms/step - loss: 1.4740e-04 - val_loss: 0.0069\n",
            "Epoch 88/100\n",
            "12/12 [==============================] - 2s 177ms/step - loss: 1.3343e-04 - val_loss: 0.0065\n",
            "Epoch 89/100\n",
            "12/12 [==============================] - 2s 173ms/step - loss: 1.3283e-04 - val_loss: 0.0071\n",
            "Epoch 90/100\n",
            "12/12 [==============================] - 2s 174ms/step - loss: 1.2503e-04 - val_loss: 0.0065\n",
            "Epoch 91/100\n",
            "12/12 [==============================] - 2s 172ms/step - loss: 1.1374e-04 - val_loss: 0.0065\n",
            "Epoch 92/100\n",
            "12/12 [==============================] - 2s 172ms/step - loss: 1.1736e-04 - val_loss: 0.0072\n",
            "Epoch 93/100\n",
            "12/12 [==============================] - 2s 175ms/step - loss: 1.3813e-04 - val_loss: 0.0062\n",
            "Epoch 94/100\n",
            "12/12 [==============================] - 2s 174ms/step - loss: 1.0519e-04 - val_loss: 0.0060\n",
            "Epoch 95/100\n",
            "12/12 [==============================] - 2s 176ms/step - loss: 1.1085e-04 - val_loss: 0.0067\n",
            "Epoch 96/100\n",
            "12/12 [==============================] - 2s 181ms/step - loss: 1.2087e-04 - val_loss: 0.0061\n",
            "Epoch 97/100\n",
            "12/12 [==============================] - 2s 175ms/step - loss: 1.2225e-04 - val_loss: 0.0060\n",
            "Epoch 98/100\n",
            "12/12 [==============================] - 2s 176ms/step - loss: 1.1785e-04 - val_loss: 0.0058\n",
            "Epoch 99/100\n",
            "12/12 [==============================] - 2s 176ms/step - loss: 1.5593e-04 - val_loss: 0.0072\n",
            "Epoch 100/100\n",
            "12/12 [==============================] - 2s 172ms/step - loss: 1.2132e-04 - val_loss: 0.0093\n"
          ],
          "name": "stdout"
        },
        {
          "output_type": "execute_result",
          "data": {
            "text/plain": [
              "<tensorflow.python.keras.callbacks.History at 0x7f0bcae3ac90>"
            ]
          },
          "metadata": {
            "tags": []
          },
          "execution_count": 28
        }
      ]
    },
    {
      "cell_type": "code",
      "metadata": {
        "id": "0iIdnCFMYbXK"
      },
      "source": [
        "import tensorflow as tf"
      ],
      "execution_count": null,
      "outputs": []
    },
    {
      "cell_type": "code",
      "metadata": {
        "colab": {
          "base_uri": "https://localhost:8080/",
          "height": 35
        },
        "id": "GX3EgdzOYbXL",
        "outputId": "b2c079e1-2f83-4c68-c380-40607865833c"
      },
      "source": [
        "tf.__version__"
      ],
      "execution_count": null,
      "outputs": [
        {
          "output_type": "execute_result",
          "data": {
            "application/vnd.google.colaboratory.intrinsic+json": {
              "type": "string"
            },
            "text/plain": [
              "'2.4.1'"
            ]
          },
          "metadata": {
            "tags": []
          },
          "execution_count": 30
        }
      ]
    },
    {
      "cell_type": "code",
      "metadata": {
        "id": "peAm6YYHYbXN"
      },
      "source": [
        "### Prediction and checking performance metrics\n",
        "train_predict=model.predict(X_train)\n",
        "test_predict=model.predict(X_test)"
      ],
      "execution_count": null,
      "outputs": []
    },
    {
      "cell_type": "code",
      "metadata": {
        "id": "j8HK3kaLYbXO"
      },
      "source": [
        "##Transformback to original form\n",
        "train_predict=scaler.inverse_transform(train_predict)\n",
        "test_predict=scaler.inverse_transform(test_predict)"
      ],
      "execution_count": null,
      "outputs": []
    },
    {
      "cell_type": "code",
      "metadata": {
        "colab": {
          "base_uri": "https://localhost:8080/"
        },
        "id": "eQa7GAFHYbXP",
        "outputId": "75b3db62-9ffe-4fb9-afe1-d2e6e05fe6a9"
      },
      "source": [
        "### Calculate RMSE performance metrics\n",
        "import math\n",
        "from sklearn.metrics import mean_squared_error\n",
        "math.sqrt(mean_squared_error(y_train,train_predict))"
      ],
      "execution_count": null,
      "outputs": [
        {
          "output_type": "execute_result",
          "data": {
            "text/plain": [
              "166.04647274528006"
            ]
          },
          "metadata": {
            "tags": []
          },
          "execution_count": 33
        }
      ]
    },
    {
      "cell_type": "code",
      "metadata": {
        "colab": {
          "base_uri": "https://localhost:8080/"
        },
        "id": "NR7ez_j_YbXQ",
        "outputId": "6019fe2e-3929-43f7-af0f-3722cb2c1364"
      },
      "source": [
        "### Test Data RMSE\n",
        "math.sqrt(mean_squared_error(ytest,test_predict))"
      ],
      "execution_count": null,
      "outputs": [
        {
          "output_type": "execute_result",
          "data": {
            "text/plain": [
              "223.35507936164015"
            ]
          },
          "metadata": {
            "tags": []
          },
          "execution_count": 34
        }
      ]
    },
    {
      "cell_type": "code",
      "metadata": {
        "colab": {
          "base_uri": "https://localhost:8080/",
          "height": 265
        },
        "id": "E9vDQY_tYbXV",
        "outputId": "c9cfc9c5-aa3d-4e1e-d40b-5e24c016959a"
      },
      "source": [
        "### Plotting \n",
        "# shift train predictions for plotting\n",
        "look_back=100\n",
        "trainPredictPlot = numpy.empty_like(df1)\n",
        "trainPredictPlot[:, :] = np.nan\n",
        "trainPredictPlot[look_back:len(train_predict)+look_back, :] = train_predict\n",
        "# shift test predictions for plotting\n",
        "testPredictPlot = numpy.empty_like(df1)\n",
        "testPredictPlot[:, :] = numpy.nan\n",
        "testPredictPlot[len(train_predict)+(look_back*2)+1:len(df1)-1, :] = test_predict\n",
        "# plot baseline and predictions\n",
        "plt.plot(scaler.inverse_transform(df1))\n",
        "plt.plot(trainPredictPlot)\n",
        "plt.plot(testPredictPlot)\n",
        "plt.show()"
      ],
      "execution_count": null,
      "outputs": [
        {
          "output_type": "display_data",
          "data": {
            "image/png": "[encoded data removed]",
            "text/plain": [
              "<Figure size 432x288 with 1 Axes>"
            ]
          },
          "metadata": {
            "tags": [],
            "needs_background": "light"
          }
        }
      ]
    },
    {
      "cell_type": "code",
      "metadata": {
        "colab": {
          "base_uri": "https://localhost:8080/"
        },
        "id": "eLDNEa_6YbXb",
        "outputId": "6ed52f70-15fc-4c57-e3e8-ba603463fa75"
      },
      "source": [
        "len(test_data)"
      ],
      "execution_count": null,
      "outputs": [
        {
          "output_type": "execute_result",
          "data": {
            "text/plain": [
              "440"
            ]
          },
          "metadata": {
            "tags": []
          },
          "execution_count": 36
        }
      ]
    },
    {
      "cell_type": "code",
      "metadata": {
        "colab": {
          "base_uri": "https://localhost:8080/"
        },
        "id": "ubHrhKMRYbXf",
        "outputId": "b593cfba-f6bb-4845-8e86-34a1f9d57e68"
      },
      "source": [
        "x_input=test_data[340:].reshape(1,-1)\n",
        "x_input.shape\n"
      ],
      "execution_count": null,
      "outputs": [
        {
          "output_type": "execute_result",
          "data": {
            "text/plain": [
              "(1, 100)"
            ]
          },
          "metadata": {
            "tags": []
          },
          "execution_count": 48
        }
      ]
    },
    {
      "cell_type": "code",
      "metadata": {
        "id": "cSlYybbkYbXg"
      },
      "source": [
        ""
      ],
      "execution_count": null,
      "outputs": []
    },
    {
      "cell_type": "code",
      "metadata": {
        "id": "FEfrZBPyYbXh"
      },
      "source": [
        ""
      ],
      "execution_count": null,
      "outputs": []
    },
    {
      "cell_type": "code",
      "metadata": {
        "id": "9i6nEUeFYbXi"
      },
      "source": [
        "temp_input=list(x_input)\n",
        "temp_input=temp_input[0].tolist()"
      ],
      "execution_count": null,
      "outputs": []
    },
    {
      "cell_type": "code",
      "metadata": {
        "colab": {
          "base_uri": "https://localhost:8080/"
        },
        "id": "ne-oeUCRYbXj",
        "outputId": "346b4912-88ff-4cb1-ca44-33b9527c884f"
      },
      "source": [
        "temp_input"
      ],
      "execution_count": null,
      "outputs": [
        {
          "output_type": "execute_result",
          "data": {
            "text/plain": [
              "[0.09399830938292478,\n",
              " 0.09643762830576016,\n",
              " 0.1078372177273276,\n",
              " 0.10344161333172322,\n",
              " 0.10066417099384131,\n",
              " 0.09817654872599926,\n",
              " 0.09025480014491002,\n",
              " 0.09411906774544135,\n",
              " 0.08346818017147686,\n",
              " 0.09390170269291145,\n",
              " 0.09663084168578676,\n",
              " 0.08921627822726722,\n",
              " 0.08878154812220748,\n",
              " 0.09382924767540149,\n",
              " 0.08904721651974398,\n",
              " 0.08477237048665617,\n",
              " 0.08643883588938531,\n",
              " 0.0965825383407801,\n",
              " 0.10827194783238739,\n",
              " 0.11358531578311795,\n",
              " 0.12288370969689646,\n",
              " 0.12346334983697618,\n",
              " 0.1208066658616109,\n",
              " 0.10880328462746044,\n",
              " 0.09641347663325686,\n",
              " 0.10167854123898076,\n",
              " 0.10373143340176308,\n",
              " 0.10119550778891437,\n",
              " 0.10952783480256004,\n",
              " 0.10800627943485083,\n",
              " 0.10836855452240066,\n",
              " 0.10619490399710177,\n",
              " 0.10469750030189587,\n",
              " 0.10406955681680954,\n",
              " 0.10464919695688926,\n",
              " 0.0993841323511653,\n",
              " 0.09370848931288492,\n",
              " 0.09097935032000967,\n",
              " 0.0913657770800628,\n",
              " 0.08201907982127762,\n",
              " 0.0816809564062311,\n",
              " 0.08044922110856176,\n",
              " 0.06991909189711384,\n",
              " 0.07057118705470353,\n",
              " 0.0863422291993721,\n",
              " 0.0798937326409854,\n",
              " 0.07250332085496922,\n",
              " 0.06784204806182828,\n",
              " 0.07095761381475665,\n",
              " 0.0587368675280763,\n",
              " 0.07014853278589542,\n",
              " 0.06747977297427846,\n",
              " 0.07226180412993596,\n",
              " 0.07001569858712717,\n",
              " 0.0771645936481101,\n",
              " 0.08098055790363481,\n",
              " 0.07902427243086582,\n",
              " 0.06880811496196113,\n",
              " 0.06750392464678176,\n",
              " 0.07571549329791086,\n",
              " 0.0736626011351286,\n",
              " 0.06774544137181501,\n",
              " 0.06895302499698105,\n",
              " 0.0704504286921869,\n",
              " 0.07088515879724669,\n",
              " 0.06728655959425192,\n",
              " 0.07272068590749911,\n",
              " 0.07477357807028137,\n",
              " 0.08177756309624443,\n",
              " 0.08252626494384732,\n",
              " 0.0866078975969086,\n",
              " 0.09254920903272554,\n",
              " 0.09891317473735059,\n",
              " 0.09467455621301776,\n",
              " 0.10237893974157711,\n",
              " 0.0965825383407801,\n",
              " 0.10254800144910034,\n",
              " 0.10172684458398742,\n",
              " 0.10336915831421326,\n",
              " 0.09919091897113877,\n",
              " 0.10013283419876826,\n",
              " 0.0963651732882502,\n",
              " 0.10211327134404055,\n",
              " 0.1030793382441734,\n",
              " 0.10228233305156378,\n",
              " 0.10032604757879485,\n",
              " 0.1000845308537616,\n",
              " 0.09520589300809082,\n",
              " 0.09781427363844944,\n",
              " 0.08648713923439197,\n",
              " 0.08709093104697499,\n",
              " 0.09105180533751964,\n",
              " 0.09218693394517571,\n",
              " 0.08407197198405988,\n",
              " 0.08180171476874773,\n",
              " 0.07421808960270496,\n",
              " 0.07953145755343557,\n",
              " 0.08552107233425918,\n",
              " 0.08267117497886725,\n",
              " 0.07924163748339572]"
            ]
          },
          "metadata": {
            "tags": []
          },
          "execution_count": 50
        }
      ]
    },
    {
      "cell_type": "code",
      "metadata": {
        "colab": {
          "base_uri": "https://localhost:8080/"
        },
        "id": "-F8un2khYbXk",
        "outputId": "90b72115-69b0-437e-bc46-aa86ffb47862"
      },
      "source": [
        "# demonstrate prediction for next 30 days\n",
        "from numpy import array\n",
        "\n",
        "lst_output=[]\n",
        "n_steps=100\n",
        "i=0\n",
        "while(i<30):\n",
        "    \n",
        "    if(len(temp_input)>100):\n",
        "        #print(temp_input)\n",
        "        x_input=np.array(temp_input[1:])\n",
        "        print(\"{} day input {}\".format(i,x_input))\n",
        "        x_input=x_input.reshape(1,-1)\n",
        "        x_input = x_input.reshape((1, n_steps, 1))\n",
        "        #print(x_input)\n",
        "        yhat = model.predict(x_input, verbose=0)\n",
        "        print(\"{} day output {}\".format(i,yhat))\n",
        "        temp_input.extend(yhat[0].tolist())\n",
        "        temp_input=temp_input[1:]\n",
        "        #print(temp_input)\n",
        "        lst_output.extend(yhat.tolist())\n",
        "        i=i+1\n",
        "    else:\n",
        "        x_input = x_input.reshape((1, n_steps,1))\n",
        "        yhat = model.predict(x_input, verbose=0)\n",
        "        print(yhat[0])\n",
        "        temp_input.extend(yhat[0].tolist())\n",
        "        print(len(temp_input))\n",
        "        lst_output.extend(yhat.tolist())\n",
        "        i=i+1\n",
        "    \n",
        "\n",
        "print(lst_output)"
      ],
      "execution_count": null,
      "outputs": [
        {
          "output_type": "stream",
          "text": [
            "[0.07783974]\n",
            "101\n",
            "1 day input [0.09643763 0.10783722 0.10344161 0.10066417 0.09817655 0.0902548\n",
            " 0.09411907 0.08346818 0.0939017  0.09663084 0.08921628 0.08878155\n",
            " 0.09382925 0.08904722 0.08477237 0.08643884 0.09658254 0.10827195\n",
            " 0.11358532 0.12288371 0.12346335 0.12080667 0.10880328 0.09641348\n",
            " 0.10167854 0.10373143 0.10119551 0.10952783 0.10800628 0.10836855\n",
            " 0.1061949  0.1046975  0.10406956 0.1046492  0.09938413 0.09370849\n",
            " 0.09097935 0.09136578 0.08201908 0.08168096 0.08044922 0.06991909\n",
            " 0.07057119 0.08634223 0.07989373 0.07250332 0.06784205 0.07095761\n",
            " 0.05873687 0.07014853 0.06747977 0.0722618  0.0700157  0.07716459\n",
            " 0.08098056 0.07902427 0.06880811 0.06750392 0.07571549 0.0736626\n",
            " 0.06774544 0.06895302 0.07045043 0.07088516 0.06728656 0.07272069\n",
            " 0.07477358 0.08177756 0.08252626 0.0866079  0.09254921 0.09891317\n",
            " 0.09467456 0.10237894 0.09658254 0.102548   0.10172684 0.10336916\n",
            " 0.09919092 0.10013283 0.09636517 0.10211327 0.10307934 0.10228233\n",
            " 0.10032605 0.10008453 0.09520589 0.09781427 0.08648714 0.08709093\n",
            " 0.09105181 0.09218693 0.08407197 0.08180171 0.07421809 0.07953146\n",
            " 0.08552107 0.08267117 0.07924164 0.07783974]\n",
            "1 day output [[0.07753437]]\n",
            "2 day input [0.10783722 0.10344161 0.10066417 0.09817655 0.0902548  0.09411907\n",
            " 0.08346818 0.0939017  0.09663084 0.08921628 0.08878155 0.09382925\n",
            " 0.08904722 0.08477237 0.08643884 0.09658254 0.10827195 0.11358532\n",
            " 0.12288371 0.12346335 0.12080667 0.10880328 0.09641348 0.10167854\n",
            " 0.10373143 0.10119551 0.10952783 0.10800628 0.10836855 0.1061949\n",
            " 0.1046975  0.10406956 0.1046492  0.09938413 0.09370849 0.09097935\n",
            " 0.09136578 0.08201908 0.08168096 0.08044922 0.06991909 0.07057119\n",
            " 0.08634223 0.07989373 0.07250332 0.06784205 0.07095761 0.05873687\n",
            " 0.07014853 0.06747977 0.0722618  0.0700157  0.07716459 0.08098056\n",
            " 0.07902427 0.06880811 0.06750392 0.07571549 0.0736626  0.06774544\n",
            " 0.06895302 0.07045043 0.07088516 0.06728656 0.07272069 0.07477358\n",
            " 0.08177756 0.08252626 0.0866079  0.09254921 0.09891317 0.09467456\n",
            " 0.10237894 0.09658254 0.102548   0.10172684 0.10336916 0.09919092\n",
            " 0.10013283 0.09636517 0.10211327 0.10307934 0.10228233 0.10032605\n",
            " 0.10008453 0.09520589 0.09781427 0.08648714 0.08709093 0.09105181\n",
            " 0.09218693 0.08407197 0.08180171 0.07421809 0.07953146 0.08552107\n",
            " 0.08267117 0.07924164 0.07783974 0.07753437]\n",
            "2 day output [[0.07711701]]\n",
            "3 day input [0.10344161 0.10066417 0.09817655 0.0902548  0.09411907 0.08346818\n",
            " 0.0939017  0.09663084 0.08921628 0.08878155 0.09382925 0.08904722\n",
            " 0.08477237 0.08643884 0.09658254 0.10827195 0.11358532 0.12288371\n",
            " 0.12346335 0.12080667 0.10880328 0.09641348 0.10167854 0.10373143\n",
            " 0.10119551 0.10952783 0.10800628 0.10836855 0.1061949  0.1046975\n",
            " 0.10406956 0.1046492  0.09938413 0.09370849 0.09097935 0.09136578\n",
            " 0.08201908 0.08168096 0.08044922 0.06991909 0.07057119 0.08634223\n",
            " 0.07989373 0.07250332 0.06784205 0.07095761 0.05873687 0.07014853\n",
            " 0.06747977 0.0722618  0.0700157  0.07716459 0.08098056 0.07902427\n",
            " 0.06880811 0.06750392 0.07571549 0.0736626  0.06774544 0.06895302\n",
            " 0.07045043 0.07088516 0.06728656 0.07272069 0.07477358 0.08177756\n",
            " 0.08252626 0.0866079  0.09254921 0.09891317 0.09467456 0.10237894\n",
            " 0.09658254 0.102548   0.10172684 0.10336916 0.09919092 0.10013283\n",
            " 0.09636517 0.10211327 0.10307934 0.10228233 0.10032605 0.10008453\n",
            " 0.09520589 0.09781427 0.08648714 0.08709093 0.09105181 0.09218693\n",
            " 0.08407197 0.08180171 0.07421809 0.07953146 0.08552107 0.08267117\n",
            " 0.07924164 0.07783974 0.07753437 0.07711701]\n",
            "3 day output [[0.07657149]]\n",
            "4 day input [0.10066417 0.09817655 0.0902548  0.09411907 0.08346818 0.0939017\n",
            " 0.09663084 0.08921628 0.08878155 0.09382925 0.08904722 0.08477237\n",
            " 0.08643884 0.09658254 0.10827195 0.11358532 0.12288371 0.12346335\n",
            " 0.12080667 0.10880328 0.09641348 0.10167854 0.10373143 0.10119551\n",
            " 0.10952783 0.10800628 0.10836855 0.1061949  0.1046975  0.10406956\n",
            " 0.1046492  0.09938413 0.09370849 0.09097935 0.09136578 0.08201908\n",
            " 0.08168096 0.08044922 0.06991909 0.07057119 0.08634223 0.07989373\n",
            " 0.07250332 0.06784205 0.07095761 0.05873687 0.07014853 0.06747977\n",
            " 0.0722618  0.0700157  0.07716459 0.08098056 0.07902427 0.06880811\n",
            " 0.06750392 0.07571549 0.0736626  0.06774544 0.06895302 0.07045043\n",
            " 0.07088516 0.06728656 0.07272069 0.07477358 0.08177756 0.08252626\n",
            " 0.0866079  0.09254921 0.09891317 0.09467456 0.10237894 0.09658254\n",
            " 0.102548   0.10172684 0.10336916 0.09919092 0.10013283 0.09636517\n",
            " 0.10211327 0.10307934 0.10228233 0.10032605 0.10008453 0.09520589\n",
            " 0.09781427 0.08648714 0.08709093 0.09105181 0.09218693 0.08407197\n",
            " 0.08180171 0.07421809 0.07953146 0.08552107 0.08267117 0.07924164\n",
            " 0.07783974 0.07753437 0.07711701 0.07657149]\n",
            "4 day output [[0.07592236]]\n",
            "5 day input [0.09817655 0.0902548  0.09411907 0.08346818 0.0939017  0.09663084\n",
            " 0.08921628 0.08878155 0.09382925 0.08904722 0.08477237 0.08643884\n",
            " 0.09658254 0.10827195 0.11358532 0.12288371 0.12346335 0.12080667\n",
            " 0.10880328 0.09641348 0.10167854 0.10373143 0.10119551 0.10952783\n",
            " 0.10800628 0.10836855 0.1061949  0.1046975  0.10406956 0.1046492\n",
            " 0.09938413 0.09370849 0.09097935 0.09136578 0.08201908 0.08168096\n",
            " 0.08044922 0.06991909 0.07057119 0.08634223 0.07989373 0.07250332\n",
            " 0.06784205 0.07095761 0.05873687 0.07014853 0.06747977 0.0722618\n",
            " 0.0700157  0.07716459 0.08098056 0.07902427 0.06880811 0.06750392\n",
            " 0.07571549 0.0736626  0.06774544 0.06895302 0.07045043 0.07088516\n",
            " 0.06728656 0.07272069 0.07477358 0.08177756 0.08252626 0.0866079\n",
            " 0.09254921 0.09891317 0.09467456 0.10237894 0.09658254 0.102548\n",
            " 0.10172684 0.10336916 0.09919092 0.10013283 0.09636517 0.10211327\n",
            " 0.10307934 0.10228233 0.10032605 0.10008453 0.09520589 0.09781427\n",
            " 0.08648714 0.08709093 0.09105181 0.09218693 0.08407197 0.08180171\n",
            " 0.07421809 0.07953146 0.08552107 0.08267117 0.07924164 0.07783974\n",
            " 0.07753437 0.07711701 0.07657149 0.07592236]\n",
            "5 day output [[0.07520106]]\n",
            "6 day input [0.0902548  0.09411907 0.08346818 0.0939017  0.09663084 0.08921628\n",
            " 0.08878155 0.09382925 0.08904722 0.08477237 0.08643884 0.09658254\n",
            " 0.10827195 0.11358532 0.12288371 0.12346335 0.12080667 0.10880328\n",
            " 0.09641348 0.10167854 0.10373143 0.10119551 0.10952783 0.10800628\n",
            " 0.10836855 0.1061949  0.1046975  0.10406956 0.1046492  0.09938413\n",
            " 0.09370849 0.09097935 0.09136578 0.08201908 0.08168096 0.08044922\n",
            " 0.06991909 0.07057119 0.08634223 0.07989373 0.07250332 0.06784205\n",
            " 0.07095761 0.05873687 0.07014853 0.06747977 0.0722618  0.0700157\n",
            " 0.07716459 0.08098056 0.07902427 0.06880811 0.06750392 0.07571549\n",
            " 0.0736626  0.06774544 0.06895302 0.07045043 0.07088516 0.06728656\n",
            " 0.07272069 0.07477358 0.08177756 0.08252626 0.0866079  0.09254921\n",
            " 0.09891317 0.09467456 0.10237894 0.09658254 0.102548   0.10172684\n",
            " 0.10336916 0.09919092 0.10013283 0.09636517 0.10211327 0.10307934\n",
            " 0.10228233 0.10032605 0.10008453 0.09520589 0.09781427 0.08648714\n",
            " 0.08709093 0.09105181 0.09218693 0.08407197 0.08180171 0.07421809\n",
            " 0.07953146 0.08552107 0.08267117 0.07924164 0.07783974 0.07753437\n",
            " 0.07711701 0.07657149 0.07592236 0.07520106]\n",
            "6 day output [[0.07443243]]\n",
            "7 day input [0.09411907 0.08346818 0.0939017  0.09663084 0.08921628 0.08878155\n",
            " 0.09382925 0.08904722 0.08477237 0.08643884 0.09658254 0.10827195\n",
            " 0.11358532 0.12288371 0.12346335 0.12080667 0.10880328 0.09641348\n",
            " 0.10167854 0.10373143 0.10119551 0.10952783 0.10800628 0.10836855\n",
            " 0.1061949  0.1046975  0.10406956 0.1046492  0.09938413 0.09370849\n",
            " 0.09097935 0.09136578 0.08201908 0.08168096 0.08044922 0.06991909\n",
            " 0.07057119 0.08634223 0.07989373 0.07250332 0.06784205 0.07095761\n",
            " 0.05873687 0.07014853 0.06747977 0.0722618  0.0700157  0.07716459\n",
            " 0.08098056 0.07902427 0.06880811 0.06750392 0.07571549 0.0736626\n",
            " 0.06774544 0.06895302 0.07045043 0.07088516 0.06728656 0.07272069\n",
            " 0.07477358 0.08177756 0.08252626 0.0866079  0.09254921 0.09891317\n",
            " 0.09467456 0.10237894 0.09658254 0.102548   0.10172684 0.10336916\n",
            " 0.09919092 0.10013283 0.09636517 0.10211327 0.10307934 0.10228233\n",
            " 0.10032605 0.10008453 0.09520589 0.09781427 0.08648714 0.08709093\n",
            " 0.09105181 0.09218693 0.08407197 0.08180171 0.07421809 0.07953146\n",
            " 0.08552107 0.08267117 0.07924164 0.07783974 0.07753437 0.07711701\n",
            " 0.07657149 0.07592236 0.07520106 0.07443243]\n",
            "7 day output [[0.07363235]]\n",
            "8 day input [0.08346818 0.0939017  0.09663084 0.08921628 0.08878155 0.09382925\n",
            " 0.08904722 0.08477237 0.08643884 0.09658254 0.10827195 0.11358532\n",
            " 0.12288371 0.12346335 0.12080667 0.10880328 0.09641348 0.10167854\n",
            " 0.10373143 0.10119551 0.10952783 0.10800628 0.10836855 0.1061949\n",
            " 0.1046975  0.10406956 0.1046492  0.09938413 0.09370849 0.09097935\n",
            " 0.09136578 0.08201908 0.08168096 0.08044922 0.06991909 0.07057119\n",
            " 0.08634223 0.07989373 0.07250332 0.06784205 0.07095761 0.05873687\n",
            " 0.07014853 0.06747977 0.0722618  0.0700157  0.07716459 0.08098056\n",
            " 0.07902427 0.06880811 0.06750392 0.07571549 0.0736626  0.06774544\n",
            " 0.06895302 0.07045043 0.07088516 0.06728656 0.07272069 0.07477358\n",
            " 0.08177756 0.08252626 0.0866079  0.09254921 0.09891317 0.09467456\n",
            " 0.10237894 0.09658254 0.102548   0.10172684 0.10336916 0.09919092\n",
            " 0.10013283 0.09636517 0.10211327 0.10307934 0.10228233 0.10032605\n",
            " 0.10008453 0.09520589 0.09781427 0.08648714 0.08709093 0.09105181\n",
            " 0.09218693 0.08407197 0.08180171 0.07421809 0.07953146 0.08552107\n",
            " 0.08267117 0.07924164 0.07783974 0.07753437 0.07711701 0.07657149\n",
            " 0.07592236 0.07520106 0.07443243 0.07363235]\n",
            "8 day output [[0.07281003]]\n",
            "9 day input [0.0939017  0.09663084 0.08921628 0.08878155 0.09382925 0.08904722\n",
            " 0.08477237 0.08643884 0.09658254 0.10827195 0.11358532 0.12288371\n",
            " 0.12346335 0.12080667 0.10880328 0.09641348 0.10167854 0.10373143\n",
            " 0.10119551 0.10952783 0.10800628 0.10836855 0.1061949  0.1046975\n",
            " 0.10406956 0.1046492  0.09938413 0.09370849 0.09097935 0.09136578\n",
            " 0.08201908 0.08168096 0.08044922 0.06991909 0.07057119 0.08634223\n",
            " 0.07989373 0.07250332 0.06784205 0.07095761 0.05873687 0.07014853\n",
            " 0.06747977 0.0722618  0.0700157  0.07716459 0.08098056 0.07902427\n",
            " 0.06880811 0.06750392 0.07571549 0.0736626  0.06774544 0.06895302\n",
            " 0.07045043 0.07088516 0.06728656 0.07272069 0.07477358 0.08177756\n",
            " 0.08252626 0.0866079  0.09254921 0.09891317 0.09467456 0.10237894\n",
            " 0.09658254 0.102548   0.10172684 0.10336916 0.09919092 0.10013283\n",
            " 0.09636517 0.10211327 0.10307934 0.10228233 0.10032605 0.10008453\n",
            " 0.09520589 0.09781427 0.08648714 0.08709093 0.09105181 0.09218693\n",
            " 0.08407197 0.08180171 0.07421809 0.07953146 0.08552107 0.08267117\n",
            " 0.07924164 0.07783974 0.07753437 0.07711701 0.07657149 0.07592236\n",
            " 0.07520106 0.07443243 0.07363235 0.07281003]\n",
            "9 day output [[0.07197111]]\n",
            "10 day input [0.09663084 0.08921628 0.08878155 0.09382925 0.08904722 0.08477237\n",
            " 0.08643884 0.09658254 0.10827195 0.11358532 0.12288371 0.12346335\n",
            " 0.12080667 0.10880328 0.09641348 0.10167854 0.10373143 0.10119551\n",
            " 0.10952783 0.10800628 0.10836855 0.1061949  0.1046975  0.10406956\n",
            " 0.1046492  0.09938413 0.09370849 0.09097935 0.09136578 0.08201908\n",
            " 0.08168096 0.08044922 0.06991909 0.07057119 0.08634223 0.07989373\n",
            " 0.07250332 0.06784205 0.07095761 0.05873687 0.07014853 0.06747977\n",
            " 0.0722618  0.0700157  0.07716459 0.08098056 0.07902427 0.06880811\n",
            " 0.06750392 0.07571549 0.0736626  0.06774544 0.06895302 0.07045043\n",
            " 0.07088516 0.06728656 0.07272069 0.07477358 0.08177756 0.08252626\n",
            " 0.0866079  0.09254921 0.09891317 0.09467456 0.10237894 0.09658254\n",
            " 0.102548   0.10172684 0.10336916 0.09919092 0.10013283 0.09636517\n",
            " 0.10211327 0.10307934 0.10228233 0.10032605 0.10008453 0.09520589\n",
            " 0.09781427 0.08648714 0.08709093 0.09105181 0.09218693 0.08407197\n",
            " 0.08180171 0.07421809 0.07953146 0.08552107 0.08267117 0.07924164\n",
            " 0.07783974 0.07753437 0.07711701 0.07657149 0.07592236 0.07520106\n",
            " 0.07443243 0.07363235 0.07281003 0.07197111]\n",
            "10 day output [[0.07111982]]\n",
            "11 day input [0.08921628 0.08878155 0.09382925 0.08904722 0.08477237 0.08643884\n",
            " 0.09658254 0.10827195 0.11358532 0.12288371 0.12346335 0.12080667\n",
            " 0.10880328 0.09641348 0.10167854 0.10373143 0.10119551 0.10952783\n",
            " 0.10800628 0.10836855 0.1061949  0.1046975  0.10406956 0.1046492\n",
            " 0.09938413 0.09370849 0.09097935 0.09136578 0.08201908 0.08168096\n",
            " 0.08044922 0.06991909 0.07057119 0.08634223 0.07989373 0.07250332\n",
            " 0.06784205 0.07095761 0.05873687 0.07014853 0.06747977 0.0722618\n",
            " 0.0700157  0.07716459 0.08098056 0.07902427 0.06880811 0.06750392\n",
            " 0.07571549 0.0736626  0.06774544 0.06895302 0.07045043 0.07088516\n",
            " 0.06728656 0.07272069 0.07477358 0.08177756 0.08252626 0.0866079\n",
            " 0.09254921 0.09891317 0.09467456 0.10237894 0.09658254 0.102548\n",
            " 0.10172684 0.10336916 0.09919092 0.10013283 0.09636517 0.10211327\n",
            " 0.10307934 0.10228233 0.10032605 0.10008453 0.09520589 0.09781427\n",
            " 0.08648714 0.08709093 0.09105181 0.09218693 0.08407197 0.08180171\n",
            " 0.07421809 0.07953146 0.08552107 0.08267117 0.07924164 0.07783974\n",
            " 0.07753437 0.07711701 0.07657149 0.07592236 0.07520106 0.07443243\n",
            " 0.07363235 0.07281003 0.07197111 0.07111982]\n",
            "11 day output [[0.07026003]]\n",
            "12 day input [0.08878155 0.09382925 0.08904722 0.08477237 0.08643884 0.09658254\n",
            " 0.10827195 0.11358532 0.12288371 0.12346335 0.12080667 0.10880328\n",
            " 0.09641348 0.10167854 0.10373143 0.10119551 0.10952783 0.10800628\n",
            " 0.10836855 0.1061949  0.1046975  0.10406956 0.1046492  0.09938413\n",
            " 0.09370849 0.09097935 0.09136578 0.08201908 0.08168096 0.08044922\n",
            " 0.06991909 0.07057119 0.08634223 0.07989373 0.07250332 0.06784205\n",
            " 0.07095761 0.05873687 0.07014853 0.06747977 0.0722618  0.0700157\n",
            " 0.07716459 0.08098056 0.07902427 0.06880811 0.06750392 0.07571549\n",
            " 0.0736626  0.06774544 0.06895302 0.07045043 0.07088516 0.06728656\n",
            " 0.07272069 0.07477358 0.08177756 0.08252626 0.0866079  0.09254921\n",
            " 0.09891317 0.09467456 0.10237894 0.09658254 0.102548   0.10172684\n",
            " 0.10336916 0.09919092 0.10013283 0.09636517 0.10211327 0.10307934\n",
            " 0.10228233 0.10032605 0.10008453 0.09520589 0.09781427 0.08648714\n",
            " 0.08709093 0.09105181 0.09218693 0.08407197 0.08180171 0.07421809\n",
            " 0.07953146 0.08552107 0.08267117 0.07924164 0.07783974 0.07753437\n",
            " 0.07711701 0.07657149 0.07592236 0.07520106 0.07443243 0.07363235\n",
            " 0.07281003 0.07197111 0.07111982 0.07026003]\n",
            "12 day output [[0.06939577]]\n",
            "13 day input [0.09382925 0.08904722 0.08477237 0.08643884 0.09658254 0.10827195\n",
            " 0.11358532 0.12288371 0.12346335 0.12080667 0.10880328 0.09641348\n",
            " 0.10167854 0.10373143 0.10119551 0.10952783 0.10800628 0.10836855\n",
            " 0.1061949  0.1046975  0.10406956 0.1046492  0.09938413 0.09370849\n",
            " 0.09097935 0.09136578 0.08201908 0.08168096 0.08044922 0.06991909\n",
            " 0.07057119 0.08634223 0.07989373 0.07250332 0.06784205 0.07095761\n",
            " 0.05873687 0.07014853 0.06747977 0.0722618  0.0700157  0.07716459\n",
            " 0.08098056 0.07902427 0.06880811 0.06750392 0.07571549 0.0736626\n",
            " 0.06774544 0.06895302 0.07045043 0.07088516 0.06728656 0.07272069\n",
            " 0.07477358 0.08177756 0.08252626 0.0866079  0.09254921 0.09891317\n",
            " 0.09467456 0.10237894 0.09658254 0.102548   0.10172684 0.10336916\n",
            " 0.09919092 0.10013283 0.09636517 0.10211327 0.10307934 0.10228233\n",
            " 0.10032605 0.10008453 0.09520589 0.09781427 0.08648714 0.08709093\n",
            " 0.09105181 0.09218693 0.08407197 0.08180171 0.07421809 0.07953146\n",
            " 0.08552107 0.08267117 0.07924164 0.07783974 0.07753437 0.07711701\n",
            " 0.07657149 0.07592236 0.07520106 0.07443243 0.07363235 0.07281003\n",
            " 0.07197111 0.07111982 0.07026003 0.06939577]\n",
            "13 day output [[0.06853102]]\n",
            "14 day input [0.08904722 0.08477237 0.08643884 0.09658254 0.10827195 0.11358532\n",
            " 0.12288371 0.12346335 0.12080667 0.10880328 0.09641348 0.10167854\n",
            " 0.10373143 0.10119551 0.10952783 0.10800628 0.10836855 0.1061949\n",
            " 0.1046975  0.10406956 0.1046492  0.09938413 0.09370849 0.09097935\n",
            " 0.09136578 0.08201908 0.08168096 0.08044922 0.06991909 0.07057119\n",
            " 0.08634223 0.07989373 0.07250332 0.06784205 0.07095761 0.05873687\n",
            " 0.07014853 0.06747977 0.0722618  0.0700157  0.07716459 0.08098056\n",
            " 0.07902427 0.06880811 0.06750392 0.07571549 0.0736626  0.06774544\n",
            " 0.06895302 0.07045043 0.07088516 0.06728656 0.07272069 0.07477358\n",
            " 0.08177756 0.08252626 0.0866079  0.09254921 0.09891317 0.09467456\n",
            " 0.10237894 0.09658254 0.102548   0.10172684 0.10336916 0.09919092\n",
            " 0.10013283 0.09636517 0.10211327 0.10307934 0.10228233 0.10032605\n",
            " 0.10008453 0.09520589 0.09781427 0.08648714 0.08709093 0.09105181\n",
            " 0.09218693 0.08407197 0.08180171 0.07421809 0.07953146 0.08552107\n",
            " 0.08267117 0.07924164 0.07783974 0.07753437 0.07711701 0.07657149\n",
            " 0.07592236 0.07520106 0.07443243 0.07363235 0.07281003 0.07197111\n",
            " 0.07111982 0.07026003 0.06939577 0.06853102]\n",
            "14 day output [[0.06766951]]\n",
            "15 day input [0.08477237 0.08643884 0.09658254 0.10827195 0.11358532 0.12288371\n",
            " 0.12346335 0.12080667 0.10880328 0.09641348 0.10167854 0.10373143\n",
            " 0.10119551 0.10952783 0.10800628 0.10836855 0.1061949  0.1046975\n",
            " 0.10406956 0.1046492  0.09938413 0.09370849 0.09097935 0.09136578\n",
            " 0.08201908 0.08168096 0.08044922 0.06991909 0.07057119 0.08634223\n",
            " 0.07989373 0.07250332 0.06784205 0.07095761 0.05873687 0.07014853\n",
            " 0.06747977 0.0722618  0.0700157  0.07716459 0.08098056 0.07902427\n",
            " 0.06880811 0.06750392 0.07571549 0.0736626  0.06774544 0.06895302\n",
            " 0.07045043 0.07088516 0.06728656 0.07272069 0.07477358 0.08177756\n",
            " 0.08252626 0.0866079  0.09254921 0.09891317 0.09467456 0.10237894\n",
            " 0.09658254 0.102548   0.10172684 0.10336916 0.09919092 0.10013283\n",
            " 0.09636517 0.10211327 0.10307934 0.10228233 0.10032605 0.10008453\n",
            " 0.09520589 0.09781427 0.08648714 0.08709093 0.09105181 0.09218693\n",
            " 0.08407197 0.08180171 0.07421809 0.07953146 0.08552107 0.08267117\n",
            " 0.07924164 0.07783974 0.07753437 0.07711701 0.07657149 0.07592236\n",
            " 0.07520106 0.07443243 0.07363235 0.07281003 0.07197111 0.07111982\n",
            " 0.07026003 0.06939577 0.06853102 0.06766951]\n",
            "15 day output [[0.06681442]]\n",
            "16 day input [0.08643884 0.09658254 0.10827195 0.11358532 0.12288371 0.12346335\n",
            " 0.12080667 0.10880328 0.09641348 0.10167854 0.10373143 0.10119551\n",
            " 0.10952783 0.10800628 0.10836855 0.1061949  0.1046975  0.10406956\n",
            " 0.1046492  0.09938413 0.09370849 0.09097935 0.09136578 0.08201908\n",
            " 0.08168096 0.08044922 0.06991909 0.07057119 0.08634223 0.07989373\n",
            " 0.07250332 0.06784205 0.07095761 0.05873687 0.07014853 0.06747977\n",
            " 0.0722618  0.0700157  0.07716459 0.08098056 0.07902427 0.06880811\n",
            " 0.06750392 0.07571549 0.0736626  0.06774544 0.06895302 0.07045043\n",
            " 0.07088516 0.06728656 0.07272069 0.07477358 0.08177756 0.08252626\n",
            " 0.0866079  0.09254921 0.09891317 0.09467456 0.10237894 0.09658254\n",
            " 0.102548   0.10172684 0.10336916 0.09919092 0.10013283 0.09636517\n",
            " 0.10211327 0.10307934 0.10228233 0.10032605 0.10008453 0.09520589\n",
            " 0.09781427 0.08648714 0.08709093 0.09105181 0.09218693 0.08407197\n",
            " 0.08180171 0.07421809 0.07953146 0.08552107 0.08267117 0.07924164\n",
            " 0.07783974 0.07753437 0.07711701 0.07657149 0.07592236 0.07520106\n",
            " 0.07443243 0.07363235 0.07281003 0.07197111 0.07111982 0.07026003\n",
            " 0.06939577 0.06853102 0.06766951 0.06681442]\n",
            "16 day output [[0.06596836]]\n",
            "17 day input [0.09658254 0.10827195 0.11358532 0.12288371 0.12346335 0.12080667\n",
            " 0.10880328 0.09641348 0.10167854 0.10373143 0.10119551 0.10952783\n",
            " 0.10800628 0.10836855 0.1061949  0.1046975  0.10406956 0.1046492\n",
            " 0.09938413 0.09370849 0.09097935 0.09136578 0.08201908 0.08168096\n",
            " 0.08044922 0.06991909 0.07057119 0.08634223 0.07989373 0.07250332\n",
            " 0.06784205 0.07095761 0.05873687 0.07014853 0.06747977 0.0722618\n",
            " 0.0700157  0.07716459 0.08098056 0.07902427 0.06880811 0.06750392\n",
            " 0.07571549 0.0736626  0.06774544 0.06895302 0.07045043 0.07088516\n",
            " 0.06728656 0.07272069 0.07477358 0.08177756 0.08252626 0.0866079\n",
            " 0.09254921 0.09891317 0.09467456 0.10237894 0.09658254 0.102548\n",
            " 0.10172684 0.10336916 0.09919092 0.10013283 0.09636517 0.10211327\n",
            " 0.10307934 0.10228233 0.10032605 0.10008453 0.09520589 0.09781427\n",
            " 0.08648714 0.08709093 0.09105181 0.09218693 0.08407197 0.08180171\n",
            " 0.07421809 0.07953146 0.08552107 0.08267117 0.07924164 0.07783974\n",
            " 0.07753437 0.07711701 0.07657149 0.07592236 0.07520106 0.07443243\n",
            " 0.07363235 0.07281003 0.07197111 0.07111982 0.07026003 0.06939577\n",
            " 0.06853102 0.06766951 0.06681442 0.06596836]\n",
            "17 day output [[0.06513312]]\n",
            "18 day input [0.10827195 0.11358532 0.12288371 0.12346335 0.12080667 0.10880328\n",
            " 0.09641348 0.10167854 0.10373143 0.10119551 0.10952783 0.10800628\n",
            " 0.10836855 0.1061949  0.1046975  0.10406956 0.1046492  0.09938413\n",
            " 0.09370849 0.09097935 0.09136578 0.08201908 0.08168096 0.08044922\n",
            " 0.06991909 0.07057119 0.08634223 0.07989373 0.07250332 0.06784205\n",
            " 0.07095761 0.05873687 0.07014853 0.06747977 0.0722618  0.0700157\n",
            " 0.07716459 0.08098056 0.07902427 0.06880811 0.06750392 0.07571549\n",
            " 0.0736626  0.06774544 0.06895302 0.07045043 0.07088516 0.06728656\n",
            " 0.07272069 0.07477358 0.08177756 0.08252626 0.0866079  0.09254921\n",
            " 0.09891317 0.09467456 0.10237894 0.09658254 0.102548   0.10172684\n",
            " 0.10336916 0.09919092 0.10013283 0.09636517 0.10211327 0.10307934\n",
            " 0.10228233 0.10032605 0.10008453 0.09520589 0.09781427 0.08648714\n",
            " 0.08709093 0.09105181 0.09218693 0.08407197 0.08180171 0.07421809\n",
            " 0.07953146 0.08552107 0.08267117 0.07924164 0.07783974 0.07753437\n",
            " 0.07711701 0.07657149 0.07592236 0.07520106 0.07443243 0.07363235\n",
            " 0.07281003 0.07197111 0.07111982 0.07026003 0.06939577 0.06853102\n",
            " 0.06766951 0.06681442 0.06596836 0.06513312]\n",
            "18 day output [[0.06430994]]\n",
            "19 day input [0.11358532 0.12288371 0.12346335 0.12080667 0.10880328 0.09641348\n",
            " 0.10167854 0.10373143 0.10119551 0.10952783 0.10800628 0.10836855\n",
            " 0.1061949  0.1046975  0.10406956 0.1046492  0.09938413 0.09370849\n",
            " 0.09097935 0.09136578 0.08201908 0.08168096 0.08044922 0.06991909\n",
            " 0.07057119 0.08634223 0.07989373 0.07250332 0.06784205 0.07095761\n",
            " 0.05873687 0.07014853 0.06747977 0.0722618  0.0700157  0.07716459\n",
            " 0.08098056 0.07902427 0.06880811 0.06750392 0.07571549 0.0736626\n",
            " 0.06774544 0.06895302 0.07045043 0.07088516 0.06728656 0.07272069\n",
            " 0.07477358 0.08177756 0.08252626 0.0866079  0.09254921 0.09891317\n",
            " 0.09467456 0.10237894 0.09658254 0.102548   0.10172684 0.10336916\n",
            " 0.09919092 0.10013283 0.09636517 0.10211327 0.10307934 0.10228233\n",
            " 0.10032605 0.10008453 0.09520589 0.09781427 0.08648714 0.08709093\n",
            " 0.09105181 0.09218693 0.08407197 0.08180171 0.07421809 0.07953146\n",
            " 0.08552107 0.08267117 0.07924164 0.07783974 0.07753437 0.07711701\n",
            " 0.07657149 0.07592236 0.07520106 0.07443243 0.07363235 0.07281003\n",
            " 0.07197111 0.07111982 0.07026003 0.06939577 0.06853102 0.06766951\n",
            " 0.06681442 0.06596836 0.06513312 0.06430994]\n",
            "19 day output [[0.06349935]]\n",
            "20 day input [0.12288371 0.12346335 0.12080667 0.10880328 0.09641348 0.10167854\n",
            " 0.10373143 0.10119551 0.10952783 0.10800628 0.10836855 0.1061949\n",
            " 0.1046975  0.10406956 0.1046492  0.09938413 0.09370849 0.09097935\n",
            " 0.09136578 0.08201908 0.08168096 0.08044922 0.06991909 0.07057119\n",
            " 0.08634223 0.07989373 0.07250332 0.06784205 0.07095761 0.05873687\n",
            " 0.07014853 0.06747977 0.0722618  0.0700157  0.07716459 0.08098056\n",
            " 0.07902427 0.06880811 0.06750392 0.07571549 0.0736626  0.06774544\n",
            " 0.06895302 0.07045043 0.07088516 0.06728656 0.07272069 0.07477358\n",
            " 0.08177756 0.08252626 0.0866079  0.09254921 0.09891317 0.09467456\n",
            " 0.10237894 0.09658254 0.102548   0.10172684 0.10336916 0.09919092\n",
            " 0.10013283 0.09636517 0.10211327 0.10307934 0.10228233 0.10032605\n",
            " 0.10008453 0.09520589 0.09781427 0.08648714 0.08709093 0.09105181\n",
            " 0.09218693 0.08407197 0.08180171 0.07421809 0.07953146 0.08552107\n",
            " 0.08267117 0.07924164 0.07783974 0.07753437 0.07711701 0.07657149\n",
            " 0.07592236 0.07520106 0.07443243 0.07363235 0.07281003 0.07197111\n",
            " 0.07111982 0.07026003 0.06939577 0.06853102 0.06766951 0.06681442\n",
            " 0.06596836 0.06513312 0.06430994 0.06349935]\n",
            "20 day output [[0.06270135]]\n",
            "21 day input [0.12346335 0.12080667 0.10880328 0.09641348 0.10167854 0.10373143\n",
            " 0.10119551 0.10952783 0.10800628 0.10836855 0.1061949  0.1046975\n",
            " 0.10406956 0.1046492  0.09938413 0.09370849 0.09097935 0.09136578\n",
            " 0.08201908 0.08168096 0.08044922 0.06991909 0.07057119 0.08634223\n",
            " 0.07989373 0.07250332 0.06784205 0.07095761 0.05873687 0.07014853\n",
            " 0.06747977 0.0722618  0.0700157  0.07716459 0.08098056 0.07902427\n",
            " 0.06880811 0.06750392 0.07571549 0.0736626  0.06774544 0.06895302\n",
            " 0.07045043 0.07088516 0.06728656 0.07272069 0.07477358 0.08177756\n",
            " 0.08252626 0.0866079  0.09254921 0.09891317 0.09467456 0.10237894\n",
            " 0.09658254 0.102548   0.10172684 0.10336916 0.09919092 0.10013283\n",
            " 0.09636517 0.10211327 0.10307934 0.10228233 0.10032605 0.10008453\n",
            " 0.09520589 0.09781427 0.08648714 0.08709093 0.09105181 0.09218693\n",
            " 0.08407197 0.08180171 0.07421809 0.07953146 0.08552107 0.08267117\n",
            " 0.07924164 0.07783974 0.07753437 0.07711701 0.07657149 0.07592236\n",
            " 0.07520106 0.07443243 0.07363235 0.07281003 0.07197111 0.07111982\n",
            " 0.07026003 0.06939577 0.06853102 0.06766951 0.06681442 0.06596836\n",
            " 0.06513312 0.06430994 0.06349935 0.06270135]\n",
            "21 day output [[0.06191561]]\n",
            "22 day input [0.12080667 0.10880328 0.09641348 0.10167854 0.10373143 0.10119551\n",
            " 0.10952783 0.10800628 0.10836855 0.1061949  0.1046975  0.10406956\n",
            " 0.1046492  0.09938413 0.09370849 0.09097935 0.09136578 0.08201908\n",
            " 0.08168096 0.08044922 0.06991909 0.07057119 0.08634223 0.07989373\n",
            " 0.07250332 0.06784205 0.07095761 0.05873687 0.07014853 0.06747977\n",
            " 0.0722618  0.0700157  0.07716459 0.08098056 0.07902427 0.06880811\n",
            " 0.06750392 0.07571549 0.0736626  0.06774544 0.06895302 0.07045043\n",
            " 0.07088516 0.06728656 0.07272069 0.07477358 0.08177756 0.08252626\n",
            " 0.0866079  0.09254921 0.09891317 0.09467456 0.10237894 0.09658254\n",
            " 0.102548   0.10172684 0.10336916 0.09919092 0.10013283 0.09636517\n",
            " 0.10211327 0.10307934 0.10228233 0.10032605 0.10008453 0.09520589\n",
            " 0.09781427 0.08648714 0.08709093 0.09105181 0.09218693 0.08407197\n",
            " 0.08180171 0.07421809 0.07953146 0.08552107 0.08267117 0.07924164\n",
            " 0.07783974 0.07753437 0.07711701 0.07657149 0.07592236 0.07520106\n",
            " 0.07443243 0.07363235 0.07281003 0.07197111 0.07111982 0.07026003\n",
            " 0.06939577 0.06853102 0.06766951 0.06681442 0.06596836 0.06513312\n",
            " 0.06430994 0.06349935 0.06270135 0.06191561]\n",
            "22 day output [[0.06114144]]\n",
            "23 day input [0.10880328 0.09641348 0.10167854 0.10373143 0.10119551 0.10952783\n",
            " 0.10800628 0.10836855 0.1061949  0.1046975  0.10406956 0.1046492\n",
            " 0.09938413 0.09370849 0.09097935 0.09136578 0.08201908 0.08168096\n",
            " 0.08044922 0.06991909 0.07057119 0.08634223 0.07989373 0.07250332\n",
            " 0.06784205 0.07095761 0.05873687 0.07014853 0.06747977 0.0722618\n",
            " 0.0700157  0.07716459 0.08098056 0.07902427 0.06880811 0.06750392\n",
            " 0.07571549 0.0736626  0.06774544 0.06895302 0.07045043 0.07088516\n",
            " 0.06728656 0.07272069 0.07477358 0.08177756 0.08252626 0.0866079\n",
            " 0.09254921 0.09891317 0.09467456 0.10237894 0.09658254 0.102548\n",
            " 0.10172684 0.10336916 0.09919092 0.10013283 0.09636517 0.10211327\n",
            " 0.10307934 0.10228233 0.10032605 0.10008453 0.09520589 0.09781427\n",
            " 0.08648714 0.08709093 0.09105181 0.09218693 0.08407197 0.08180171\n",
            " 0.07421809 0.07953146 0.08552107 0.08267117 0.07924164 0.07783974\n",
            " 0.07753437 0.07711701 0.07657149 0.07592236 0.07520106 0.07443243\n",
            " 0.07363235 0.07281003 0.07197111 0.07111982 0.07026003 0.06939577\n",
            " 0.06853102 0.06766951 0.06681442 0.06596836 0.06513312 0.06430994\n",
            " 0.06349935 0.06270135 0.06191561 0.06114144]\n",
            "23 day output [[0.06037794]]\n",
            "24 day input [0.09641348 0.10167854 0.10373143 0.10119551 0.10952783 0.10800628\n",
            " 0.10836855 0.1061949  0.1046975  0.10406956 0.1046492  0.09938413\n",
            " 0.09370849 0.09097935 0.09136578 0.08201908 0.08168096 0.08044922\n",
            " 0.06991909 0.07057119 0.08634223 0.07989373 0.07250332 0.06784205\n",
            " 0.07095761 0.05873687 0.07014853 0.06747977 0.0722618  0.0700157\n",
            " 0.07716459 0.08098056 0.07902427 0.06880811 0.06750392 0.07571549\n",
            " 0.0736626  0.06774544 0.06895302 0.07045043 0.07088516 0.06728656\n",
            " 0.07272069 0.07477358 0.08177756 0.08252626 0.0866079  0.09254921\n",
            " 0.09891317 0.09467456 0.10237894 0.09658254 0.102548   0.10172684\n",
            " 0.10336916 0.09919092 0.10013283 0.09636517 0.10211327 0.10307934\n",
            " 0.10228233 0.10032605 0.10008453 0.09520589 0.09781427 0.08648714\n",
            " 0.08709093 0.09105181 0.09218693 0.08407197 0.08180171 0.07421809\n",
            " 0.07953146 0.08552107 0.08267117 0.07924164 0.07783974 0.07753437\n",
            " 0.07711701 0.07657149 0.07592236 0.07520106 0.07443243 0.07363235\n",
            " 0.07281003 0.07197111 0.07111982 0.07026003 0.06939577 0.06853102\n",
            " 0.06766951 0.06681442 0.06596836 0.06513312 0.06430994 0.06349935\n",
            " 0.06270135 0.06191561 0.06114144 0.06037794]\n",
            "24 day output [[0.05962417]]\n",
            "25 day input [0.10167854 0.10373143 0.10119551 0.10952783 0.10800628 0.10836855\n",
            " 0.1061949  0.1046975  0.10406956 0.1046492  0.09938413 0.09370849\n",
            " 0.09097935 0.09136578 0.08201908 0.08168096 0.08044922 0.06991909\n",
            " 0.07057119 0.08634223 0.07989373 0.07250332 0.06784205 0.07095761\n",
            " 0.05873687 0.07014853 0.06747977 0.0722618  0.0700157  0.07716459\n",
            " 0.08098056 0.07902427 0.06880811 0.06750392 0.07571549 0.0736626\n",
            " 0.06774544 0.06895302 0.07045043 0.07088516 0.06728656 0.07272069\n",
            " 0.07477358 0.08177756 0.08252626 0.0866079  0.09254921 0.09891317\n",
            " 0.09467456 0.10237894 0.09658254 0.102548   0.10172684 0.10336916\n",
            " 0.09919092 0.10013283 0.09636517 0.10211327 0.10307934 0.10228233\n",
            " 0.10032605 0.10008453 0.09520589 0.09781427 0.08648714 0.08709093\n",
            " 0.09105181 0.09218693 0.08407197 0.08180171 0.07421809 0.07953146\n",
            " 0.08552107 0.08267117 0.07924164 0.07783974 0.07753437 0.07711701\n",
            " 0.07657149 0.07592236 0.07520106 0.07443243 0.07363235 0.07281003\n",
            " 0.07197111 0.07111982 0.07026003 0.06939577 0.06853102 0.06766951\n",
            " 0.06681442 0.06596836 0.06513312 0.06430994 0.06349935 0.06270135\n",
            " 0.06191561 0.06114144 0.06037794 0.05962417]\n",
            "25 day output [[0.0588791]]\n",
            "26 day input [0.10373143 0.10119551 0.10952783 0.10800628 0.10836855 0.1061949\n",
            " 0.1046975  0.10406956 0.1046492  0.09938413 0.09370849 0.09097935\n",
            " 0.09136578 0.08201908 0.08168096 0.08044922 0.06991909 0.07057119\n",
            " 0.08634223 0.07989373 0.07250332 0.06784205 0.07095761 0.05873687\n",
            " 0.07014853 0.06747977 0.0722618  0.0700157  0.07716459 0.08098056\n",
            " 0.07902427 0.06880811 0.06750392 0.07571549 0.0736626  0.06774544\n",
            " 0.06895302 0.07045043 0.07088516 0.06728656 0.07272069 0.07477358\n",
            " 0.08177756 0.08252626 0.0866079  0.09254921 0.09891317 0.09467456\n",
            " 0.10237894 0.09658254 0.102548   0.10172684 0.10336916 0.09919092\n",
            " 0.10013283 0.09636517 0.10211327 0.10307934 0.10228233 0.10032605\n",
            " 0.10008453 0.09520589 0.09781427 0.08648714 0.08709093 0.09105181\n",
            " 0.09218693 0.08407197 0.08180171 0.07421809 0.07953146 0.08552107\n",
            " 0.08267117 0.07924164 0.07783974 0.07753437 0.07711701 0.07657149\n",
            " 0.07592236 0.07520106 0.07443243 0.07363235 0.07281003 0.07197111\n",
            " 0.07111982 0.07026003 0.06939577 0.06853102 0.06766951 0.06681442\n",
            " 0.06596836 0.06513312 0.06430994 0.06349935 0.06270135 0.06191561\n",
            " 0.06114144 0.06037794 0.05962417 0.0588791 ]\n",
            "26 day output [[0.05814176]]\n",
            "27 day input [0.10119551 0.10952783 0.10800628 0.10836855 0.1061949  0.1046975\n",
            " 0.10406956 0.1046492  0.09938413 0.09370849 0.09097935 0.09136578\n",
            " 0.08201908 0.08168096 0.08044922 0.06991909 0.07057119 0.08634223\n",
            " 0.07989373 0.07250332 0.06784205 0.07095761 0.05873687 0.07014853\n",
            " 0.06747977 0.0722618  0.0700157  0.07716459 0.08098056 0.07902427\n",
            " 0.06880811 0.06750392 0.07571549 0.0736626  0.06774544 0.06895302\n",
            " 0.07045043 0.07088516 0.06728656 0.07272069 0.07477358 0.08177756\n",
            " 0.08252626 0.0866079  0.09254921 0.09891317 0.09467456 0.10237894\n",
            " 0.09658254 0.102548   0.10172684 0.10336916 0.09919092 0.10013283\n",
            " 0.09636517 0.10211327 0.10307934 0.10228233 0.10032605 0.10008453\n",
            " 0.09520589 0.09781427 0.08648714 0.08709093 0.09105181 0.09218693\n",
            " 0.08407197 0.08180171 0.07421809 0.07953146 0.08552107 0.08267117\n",
            " 0.07924164 0.07783974 0.07753437 0.07711701 0.07657149 0.07592236\n",
            " 0.07520106 0.07443243 0.07363235 0.07281003 0.07197111 0.07111982\n",
            " 0.07026003 0.06939577 0.06853102 0.06766951 0.06681442 0.06596836\n",
            " 0.06513312 0.06430994 0.06349935 0.06270135 0.06191561 0.06114144\n",
            " 0.06037794 0.05962417 0.0588791  0.05814176]\n",
            "27 day output [[0.05741125]]\n",
            "28 day input [0.10952783 0.10800628 0.10836855 0.1061949  0.1046975  0.10406956\n",
            " 0.1046492  0.09938413 0.09370849 0.09097935 0.09136578 0.08201908\n",
            " 0.08168096 0.08044922 0.06991909 0.07057119 0.08634223 0.07989373\n",
            " 0.07250332 0.06784205 0.07095761 0.05873687 0.07014853 0.06747977\n",
            " 0.0722618  0.0700157  0.07716459 0.08098056 0.07902427 0.06880811\n",
            " 0.06750392 0.07571549 0.0736626  0.06774544 0.06895302 0.07045043\n",
            " 0.07088516 0.06728656 0.07272069 0.07477358 0.08177756 0.08252626\n",
            " 0.0866079  0.09254921 0.09891317 0.09467456 0.10237894 0.09658254\n",
            " 0.102548   0.10172684 0.10336916 0.09919092 0.10013283 0.09636517\n",
            " 0.10211327 0.10307934 0.10228233 0.10032605 0.10008453 0.09520589\n",
            " 0.09781427 0.08648714 0.08709093 0.09105181 0.09218693 0.08407197\n",
            " 0.08180171 0.07421809 0.07953146 0.08552107 0.08267117 0.07924164\n",
            " 0.07783974 0.07753437 0.07711701 0.07657149 0.07592236 0.07520106\n",
            " 0.07443243 0.07363235 0.07281003 0.07197111 0.07111982 0.07026003\n",
            " 0.06939577 0.06853102 0.06766951 0.06681442 0.06596836 0.06513312\n",
            " 0.06430994 0.06349935 0.06270135 0.06191561 0.06114144 0.06037794\n",
            " 0.05962417 0.0588791  0.05814176 0.05741125]\n",
            "28 day output [[0.05668679]]\n",
            "29 day input [0.10800628 0.10836855 0.1061949  0.1046975  0.10406956 0.1046492\n",
            " 0.09938413 0.09370849 0.09097935 0.09136578 0.08201908 0.08168096\n",
            " 0.08044922 0.06991909 0.07057119 0.08634223 0.07989373 0.07250332\n",
            " 0.06784205 0.07095761 0.05873687 0.07014853 0.06747977 0.0722618\n",
            " 0.0700157  0.07716459 0.08098056 0.07902427 0.06880811 0.06750392\n",
            " 0.07571549 0.0736626  0.06774544 0.06895302 0.07045043 0.07088516\n",
            " 0.06728656 0.07272069 0.07477358 0.08177756 0.08252626 0.0866079\n",
            " 0.09254921 0.09891317 0.09467456 0.10237894 0.09658254 0.102548\n",
            " 0.10172684 0.10336916 0.09919092 0.10013283 0.09636517 0.10211327\n",
            " 0.10307934 0.10228233 0.10032605 0.10008453 0.09520589 0.09781427\n",
            " 0.08648714 0.08709093 0.09105181 0.09218693 0.08407197 0.08180171\n",
            " 0.07421809 0.07953146 0.08552107 0.08267117 0.07924164 0.07783974\n",
            " 0.07753437 0.07711701 0.07657149 0.07592236 0.07520106 0.07443243\n",
            " 0.07363235 0.07281003 0.07197111 0.07111982 0.07026003 0.06939577\n",
            " 0.06853102 0.06766951 0.06681442 0.06596836 0.06513312 0.06430994\n",
            " 0.06349935 0.06270135 0.06191561 0.06114144 0.06037794 0.05962417\n",
            " 0.0588791  0.05814176 0.05741125 0.05668679]\n",
            "29 day output [[0.05596774]]\n",
            "[[0.07783973962068558], [0.07753437012434006], [0.07711701095104218], [0.07657148689031601], [0.07592235505580902], [0.07520106434822083], [0.07443242520093918], [0.07363235205411911], [0.07281003147363663], [0.0719711109995842], [0.07111981511116028], [0.07026002556085587], [0.0693957656621933], [0.06853102147579193], [0.06766951084136963], [0.06681442260742188], [0.065968357026577], [0.06513312458992004], [0.06430993974208832], [0.0634993463754654], [0.06270135194063187], [0.06191560626029968], [0.06114143878221512], [0.06037794053554535], [0.05962417274713516], [0.058879103511571884], [0.05814175680279732], [0.057411253452301025], [0.05668679252266884], [0.05596774443984032]]\n"
          ],
          "name": "stdout"
        }
      ]
    },
    {
      "cell_type": "code",
      "metadata": {
        "id": "sYkEH7EPYbXn"
      },
      "source": [
        "day_new=np.arange(1,101)\n",
        "day_pred=np.arange(101,131)"
      ],
      "execution_count": null,
      "outputs": []
    },
    {
      "cell_type": "code",
      "metadata": {
        "id": "uCR2E9YWYbXo"
      },
      "source": [
        "import matplotlib.pyplot as plt"
      ],
      "execution_count": null,
      "outputs": []
    },
    {
      "cell_type": "code",
      "metadata": {
        "colab": {
          "base_uri": "https://localhost:8080/"
        },
        "id": "HCD5VS8kYbXr",
        "outputId": "b317ad55-ea2c-47b3-eec4-c81bac12ef6e"
      },
      "source": [
        "len(df1)"
      ],
      "execution_count": null,
      "outputs": [
        {
          "output_type": "execute_result",
          "data": {
            "text/plain": [
              "1257"
            ]
          },
          "metadata": {
            "tags": []
          },
          "execution_count": 54
        }
      ]
    },
    {
      "cell_type": "code",
      "metadata": {
        "id": "uxoPrY09YbXt"
      },
      "source": [
        ""
      ],
      "execution_count": null,
      "outputs": []
    },
    {
      "cell_type": "code",
      "metadata": {
        "colab": {
          "base_uri": "https://localhost:8080/",
          "height": 282
        },
        "id": "QCVzlqEwYbXu",
        "outputId": "7407300e-5281-4606-f43f-e2f66b10654a"
      },
      "source": [
        "plt.plot(day_new,scaler.inverse_transform(df1[1157:]))\n",
        "plt.plot(day_pred,scaler.inverse_transform(lst_output))"
      ],
      "execution_count": null,
      "outputs": [
        {
          "output_type": "execute_result",
          "data": {
            "text/plain": [
              "[<matplotlib.lines.Line2D at 0x7f0bc5e20650>]"
            ]
          },
          "metadata": {
            "tags": []
          },
          "execution_count": 55
        },
        {
          "output_type": "display_data",
          "data": {
            "image/png": "[encoded data removed]",
            "text/plain": [
              "<Figure size 432x288 with 1 Axes>"
            ]
          },
          "metadata": {
            "tags": [],
            "needs_background": "light"
          }
        }
      ]
    },
    {
      "cell_type": "code",
      "metadata": {
        "colab": {
          "base_uri": "https://localhost:8080/",
          "height": 282
        },
        "id": "zjRLTn0EYbXw",
        "outputId": "e0931cfa-7a50-4648-8688-6d67f6a28998"
      },
      "source": [
        "df3=df1.tolist()\n",
        "df3.extend(lst_output)\n",
        "plt.plot(df3[1200:])"
      ],
      "execution_count": null,
      "outputs": [
        {
          "output_type": "execute_result",
          "data": {
            "text/plain": [
              "[<matplotlib.lines.Line2D at 0x7f0bc5e9fe90>]"
            ]
          },
          "metadata": {
            "tags": []
          },
          "execution_count": 56
        },
        {
          "output_type": "display_data",
          "data": {
            "image/png": "[encoded data removed]",
            "text/plain": [
              "<Figure size 432x288 with 1 Axes>"
            ]
          },
          "metadata": {
            "tags": [],
            "needs_background": "light"
          }
        }
      ]
    },
    {
      "cell_type": "code",
      "metadata": {
        "id": "MLe0nk4ZYbXy"
      },
      "source": [
        "df3=scaler.inverse_transform(df3).tolist()"
      ],
      "execution_count": null,
      "outputs": []
    },
    {
      "cell_type": "code",
      "metadata": {
        "id": "VIvFIoeXYbX1"
      },
      "source": [
        ""
      ],
      "execution_count": null,
      "outputs": []
    }
  ]
}